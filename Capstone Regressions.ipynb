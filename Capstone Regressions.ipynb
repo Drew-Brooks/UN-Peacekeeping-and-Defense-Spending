{
 "cells": [
  {
   "cell_type": "code",
   "execution_count": 1,
   "metadata": {},
   "outputs": [
    {
     "name": "stderr",
     "output_type": "stream",
     "text": [
      "\n",
      "Attaching package: 'dplyr'\n",
      "\n",
      "The following objects are masked from 'package:stats':\n",
      "\n",
      "    filter, lag\n",
      "\n",
      "The following objects are masked from 'package:base':\n",
      "\n",
      "    intersect, setdiff, setequal, union\n",
      "\n",
      "\n",
      "Attaching package: 'lubridate'\n",
      "\n",
      "The following object is masked from 'package:base':\n",
      "\n",
      "    date\n",
      "\n"
     ]
    }
   ],
   "source": [
    "library(ggplot2)\n",
    "library(dplyr)\n",
    "library(tidyr)\n",
    "library(dygraphs)\n",
    "library(lubridate)"
   ]
  },
  {
   "cell_type": "code",
   "execution_count": 2,
   "metadata": {},
   "outputs": [
    {
     "data": {
      "text/html": [
       "<table>\n",
       "<thead><tr><th scope=col></th><th scope=col>Date</th><th scope=col>Contributor</th><th scope=col>Contributor_ISO-3</th><th scope=col>Contributor_Capital</th><th scope=col>Contributor_Capital_Latitude</th><th scope=col>Contributor_Capital_Longitude</th><th scope=col>Contributor_Continent</th><th scope=col>Contributor_Region</th><th scope=col>Contributor UN_Bloc</th><th scope=col>⋯</th><th scope=col>Mission_SADC</th><th scope=col>Experts_on_Mission</th><th scope=col>Formed_Police_Units</th><th scope=col>Inidividual_Police</th><th scope=col>Civilian_Police</th><th scope=col>Troops</th><th scope=col>Observers</th><th scope=col>Total</th><th scope=col>Year</th><th scope=col>DefSpendGDP%</th></tr></thead>\n",
       "<tbody>\n",
       "\t<tr><td>0                        </td><td>1990-11-30               </td><td>Argentina                </td><td>ARG                      </td><td>Buenos Aires             </td><td>-36.5001                 </td><td>-60.000                  </td><td>South America            </td><td>South America            </td><td>GRULAC                   </td><td><U+22EF>                 </td><td>0                        </td><td>NA                       </td><td>NA                       </td><td>NA                       </td><td>NA                       </td><td>29                       </td><td>NA                       </td><td>29                       </td><td>1990                     </td><td>1.450909                 </td></tr>\n",
       "\t<tr><td>1                        </td><td>1990-11-30               </td><td>Argentina                </td><td>ARG                      </td><td>Buenos Aires             </td><td>-36.5001                 </td><td>-60.000                  </td><td>South America            </td><td>South America            </td><td>GRULAC                   </td><td><U+22EF>                 </td><td>1                        </td><td>NA                       </td><td>NA                       </td><td>NA                       </td><td>NA                       </td><td> 6                       </td><td>NA                       </td><td> 6                       </td><td>1990                     </td><td>1.450909                 </td></tr>\n",
       "\t<tr><td>2                        </td><td>1990-11-30               </td><td>Argentina                </td><td>ARG                      </td><td>Buenos Aires             </td><td>-36.5001                 </td><td>-60.000                  </td><td>South America            </td><td>South America            </td><td>GRULAC                   </td><td><U+22EF>                 </td><td>0                        </td><td>NA                       </td><td>NA                       </td><td>NA                       </td><td>NA                       </td><td> 4                       </td><td>NA                       </td><td> 4                       </td><td>1990                     </td><td>1.450909                 </td></tr>\n",
       "\t<tr><td>3                        </td><td>1990-11-30               </td><td>Australia                </td><td>AUS                      </td><td>Canberra                 </td><td>-35.2500                 </td><td>149.133                  </td><td>Oceania                  </td><td>Australia and New Zealand</td><td>WEOG                     </td><td><U+22EF>                 </td><td>0                        </td><td>NA                       </td><td>NA                       </td><td>NA                       </td><td>26                       </td><td>NA                       </td><td>NA                       </td><td>26                       </td><td>1990                     </td><td>2.075906                 </td></tr>\n",
       "\t<tr><td>4                        </td><td>1990-11-30               </td><td>Australia                </td><td>AUS                      </td><td>Canberra                 </td><td>-35.2500                 </td><td>149.133                  </td><td>Oceania                  </td><td>Australia and New Zealand</td><td>WEOG                     </td><td><U+22EF>                 </td><td>0                        </td><td>NA                       </td><td>NA                       </td><td>NA                       </td><td>NA                       </td><td> 2                       </td><td>NA                       </td><td> 2                       </td><td>1990                     </td><td>2.075906                 </td></tr>\n",
       "\t<tr><td>5                        </td><td>1990-11-30               </td><td>Australia                </td><td>AUS                      </td><td>Canberra                 </td><td>-35.2500                 </td><td>149.133                  </td><td>Oceania                  </td><td>Australia and New Zealand</td><td>WEOG                     </td><td><U+22EF>                 </td><td>0                        </td><td>NA                       </td><td>NA                       </td><td>NA                       </td><td>NA                       </td><td>13                       </td><td>NA                       </td><td>13                       </td><td>1990                     </td><td>2.075906                 </td></tr>\n",
       "</tbody>\n",
       "</table>\n"
      ],
      "text/latex": [
       "\\begin{tabular}{r|llllllllllllllllllllllllllllllllllllllllllllllllllllllllllllllllllllllllllll}\n",
       "  & Date & Contributor & Contributor\\_ISO-3 & Contributor\\_Capital & Contributor\\_Capital\\_Latitude & Contributor\\_Capital\\_Longitude & Contributor\\_Continent & Contributor\\_Region & Contributor UN\\_Bloc & ⋯ & Mission\\_SADC & Experts\\_on\\_Mission & Formed\\_Police\\_Units & Inidividual\\_Police & Civilian\\_Police & Troops & Observers & Total & Year & DefSpendGDP\\%\\\\\n",
       "\\hline\n",
       "\t 0                         & 1990-11-30                & Argentina                 & ARG                       & Buenos Aires              & -36.5001                  & -60.000                   & South America             & South America             & GRULAC                    & <U+22EF>                  & 0                         & NA                        & NA                        & NA                        & NA                        & 29                        & NA                        & 29                        & 1990                      & 1.450909                 \\\\\n",
       "\t 1                         & 1990-11-30                & Argentina                 & ARG                       & Buenos Aires              & -36.5001                  & -60.000                   & South America             & South America             & GRULAC                    & <U+22EF>                  & 1                         & NA                        & NA                        & NA                        & NA                        &  6                        & NA                        &  6                        & 1990                      & 1.450909                 \\\\\n",
       "\t 2                         & 1990-11-30                & Argentina                 & ARG                       & Buenos Aires              & -36.5001                  & -60.000                   & South America             & South America             & GRULAC                    & <U+22EF>                  & 0                         & NA                        & NA                        & NA                        & NA                        &  4                        & NA                        &  4                        & 1990                      & 1.450909                 \\\\\n",
       "\t 3                         & 1990-11-30                & Australia                 & AUS                       & Canberra                  & -35.2500                  & 149.133                   & Oceania                   & Australia and New Zealand & WEOG                      & <U+22EF>                  & 0                         & NA                        & NA                        & NA                        & 26                        & NA                        & NA                        & 26                        & 1990                      & 2.075906                 \\\\\n",
       "\t 4                         & 1990-11-30                & Australia                 & AUS                       & Canberra                  & -35.2500                  & 149.133                   & Oceania                   & Australia and New Zealand & WEOG                      & <U+22EF>                  & 0                         & NA                        & NA                        & NA                        & NA                        &  2                        & NA                        &  2                        & 1990                      & 2.075906                 \\\\\n",
       "\t 5                         & 1990-11-30                & Australia                 & AUS                       & Canberra                  & -35.2500                  & 149.133                   & Oceania                   & Australia and New Zealand & WEOG                      & <U+22EF>                  & 0                         & NA                        & NA                        & NA                        & NA                        & 13                        & NA                        & 13                        & 1990                      & 2.075906                 \\\\\n",
       "\\end{tabular}\n"
      ],
      "text/markdown": [
       "\n",
       " | Date | Contributor | Contributor_ISO-3 | Contributor_Capital | Contributor_Capital_Latitude | Contributor_Capital_Longitude | Contributor_Continent | Contributor_Region | Contributor UN_Bloc | ⋯ | Mission_SADC | Experts_on_Mission | Formed_Police_Units | Inidividual_Police | Civilian_Police | Troops | Observers | Total | Year | DefSpendGDP% | \n",
       "|---|---|---|---|---|---|\n",
       "| 0                         | 1990-11-30                | Argentina                 | ARG                       | Buenos Aires              | -36.5001                  | -60.000                   | South America             | South America             | GRULAC                    | <U+22EF>                  | 0                         | NA                        | NA                        | NA                        | NA                        | 29                        | NA                        | 29                        | 1990                      | 1.450909                  | \n",
       "| 1                         | 1990-11-30                | Argentina                 | ARG                       | Buenos Aires              | -36.5001                  | -60.000                   | South America             | South America             | GRULAC                    | <U+22EF>                  | 1                         | NA                        | NA                        | NA                        | NA                        |  6                        | NA                        |  6                        | 1990                      | 1.450909                  | \n",
       "| 2                         | 1990-11-30                | Argentina                 | ARG                       | Buenos Aires              | -36.5001                  | -60.000                   | South America             | South America             | GRULAC                    | <U+22EF>                  | 0                         | NA                        | NA                        | NA                        | NA                        |  4                        | NA                        |  4                        | 1990                      | 1.450909                  | \n",
       "| 3                         | 1990-11-30                | Australia                 | AUS                       | Canberra                  | -35.2500                  | 149.133                   | Oceania                   | Australia and New Zealand | WEOG                      | <U+22EF>                  | 0                         | NA                        | NA                        | NA                        | 26                        | NA                        | NA                        | 26                        | 1990                      | 2.075906                  | \n",
       "| 4                         | 1990-11-30                | Australia                 | AUS                       | Canberra                  | -35.2500                  | 149.133                   | Oceania                   | Australia and New Zealand | WEOG                      | <U+22EF>                  | 0                         | NA                        | NA                        | NA                        | NA                        |  2                        | NA                        |  2                        | 1990                      | 2.075906                  | \n",
       "| 5                         | 1990-11-30                | Australia                 | AUS                       | Canberra                  | -35.2500                  | 149.133                   | Oceania                   | Australia and New Zealand | WEOG                      | <U+22EF>                  | 0                         | NA                        | NA                        | NA                        | NA                        | 13                        | NA                        | 13                        | 1990                      | 2.075906                  | \n",
       "\n",
       "\n"
      ],
      "text/plain": [
       "    Date       Contributor Contributor_ISO-3 Contributor_Capital\n",
       "1 0 1990-11-30 Argentina   ARG               Buenos Aires       \n",
       "2 1 1990-11-30 Argentina   ARG               Buenos Aires       \n",
       "3 2 1990-11-30 Argentina   ARG               Buenos Aires       \n",
       "4 3 1990-11-30 Australia   AUS               Canberra           \n",
       "5 4 1990-11-30 Australia   AUS               Canberra           \n",
       "6 5 1990-11-30 Australia   AUS               Canberra           \n",
       "  Contributor_Capital_Latitude Contributor_Capital_Longitude\n",
       "1 -36.5001                     -60.000                      \n",
       "2 -36.5001                     -60.000                      \n",
       "3 -36.5001                     -60.000                      \n",
       "4 -35.2500                     149.133                      \n",
       "5 -35.2500                     149.133                      \n",
       "6 -35.2500                     149.133                      \n",
       "  Contributor_Continent Contributor_Region        Contributor UN_Bloc <U+22EF>  \n",
       "1 South America         South America             GRULAC              <U+22EF>\n",
       "2 South America         South America             GRULAC              <U+22EF>\n",
       "3 South America         South America             GRULAC              <U+22EF>\n",
       "4 Oceania               Australia and New Zealand WEOG                <U+22EF>\n",
       "5 Oceania               Australia and New Zealand WEOG                <U+22EF>\n",
       "6 Oceania               Australia and New Zealand WEOG                <U+22EF>\n",
       "  Mission_SADC Experts_on_Mission Formed_Police_Units Inidividual_Police\n",
       "1 0            NA                 NA                  NA                \n",
       "2 1            NA                 NA                  NA                \n",
       "3 0            NA                 NA                  NA                \n",
       "4 0            NA                 NA                  NA                \n",
       "5 0            NA                 NA                  NA                \n",
       "6 0            NA                 NA                  NA                \n",
       "  Civilian_Police Troops Observers Total Year DefSpendGDP%\n",
       "1 NA              29     NA        29    1990 1.450909    \n",
       "2 NA               6     NA         6    1990 1.450909    \n",
       "3 NA               4     NA         4    1990 1.450909    \n",
       "4 26              NA     NA        26    1990 2.075906    \n",
       "5 NA               2     NA         2    1990 2.075906    \n",
       "6 NA              13     NA        13    1990 2.075906    "
      ]
     },
     "metadata": {},
     "output_type": "display_data"
    }
   ],
   "source": [
    "contrib <- read.csv('contribsandspend.csv', check.names=FALSE)\n",
    "head(contrib)"
   ]
  },
  {
   "cell_type": "code",
   "execution_count": 3,
   "metadata": {},
   "outputs": [
    {
     "name": "stdout",
     "output_type": "stream",
     "text": [
      "'data.frame':\t151845 obs. of  76 variables:\n",
      " $                              : int  0 1 2 3 4 5 6 7 8 9 ...\n",
      " $ Date                         : Factor w/ 334 levels \"1990-11-30\",\"1990-12-31\",..: 1 1 1 1 1 1 1 1 1 1 ...\n",
      " $ Contributor                  : Factor w/ 156 levels \"Albania\",\"Algeria\",..: 4 4 4 6 6 6 7 7 7 7 ...\n",
      " $ Contributor_ISO-3            : Factor w/ 155 levels \"ALB\",\"ARE\",\"ARG\",..: 3 3 3 6 6 6 7 7 7 7 ...\n",
      " $ Contributor_Capital          : Factor w/ 157 levels \"Abu Dhabi\",\"Abuja\",..: 35 35 35 38 38 38 146 146 146 146 ...\n",
      " $ Contributor_Capital_Latitude : num  -36.5 -36.5 -36.5 -35.2 -35.2 ...\n",
      " $ Contributor_Capital_Longitude: num  -60 -60 -60 149 149 ...\n",
      " $ Contributor_Continent        : Factor w/ 6 levels \"Africa\",\"Asia\",..: 6 6 6 5 5 5 3 3 3 3 ...\n",
      " $ Contributor_Region           : Factor w/ 22 levels \"Australia and New Zealand\",..: 15 15 15 1 1 1 22 22 22 22 ...\n",
      " $ Contributor UN_Bloc          : Factor w/ 6 levels \"AG\",\"APG\",\"EEG\",..: 4 4 4 5 5 5 5 5 5 5 ...\n",
      " $ Contributor_P5G4A3           : Factor w/ 4 levels \"A3\",\"G4\",\"None\",..: 3 3 3 3 3 3 3 3 3 3 ...\n",
      " $ Contributor_NAM              : int  0 0 0 0 0 0 0 0 0 0 ...\n",
      " $ Contributor_G77              : int  1 1 1 0 0 0 0 0 0 0 ...\n",
      " $ Contributor_AU               : int  0 0 0 0 0 0 0 0 0 0 ...\n",
      " $ Contributor_Arab_League      : int  0 0 0 0 0 0 0 0 0 0 ...\n",
      " $ Contributor_OIC              : int  0 0 0 0 0 0 0 0 0 0 ...\n",
      " $ Contributor_CIS              : int  0 0 0 0 0 0 0 0 0 0 ...\n",
      " $ Contributor_G20              : int  1 1 1 1 1 1 0 0 0 0 ...\n",
      " $ Contributor_EU               : int  0 0 0 0 0 0 1 1 1 1 ...\n",
      " $ Contributor_NATO             : int  0 0 0 0 0 0 0 0 0 0 ...\n",
      " $ Contributor_G8               : int  0 0 0 0 0 0 0 0 0 0 ...\n",
      " $ Contributor_OECD             : int  0 0 0 1 1 1 1 1 1 1 ...\n",
      " $ Contributor_ASEAN            : int  0 0 0 0 0 0 0 0 0 0 ...\n",
      " $ Contributor_OAS              : int  1 1 1 0 0 0 0 0 0 0 ...\n",
      " $ Contributor_Shanghai         : int  0 0 0 0 0 0 0 0 0 0 ...\n",
      " $ Contributor_GCC              : int  0 0 0 0 0 0 0 0 0 0 ...\n",
      " $ Contributor_UMA              : int  0 0 0 0 0 0 0 0 0 0 ...\n",
      " $ Contributor_COMESA           : int  0 0 0 0 0 0 0 0 0 0 ...\n",
      " $ Contributor_CENSAD           : int  0 0 0 0 0 0 0 0 0 0 ...\n",
      " $ Contributor_EAC              : int  0 0 0 0 0 0 0 0 0 0 ...\n",
      " $ Contributor_ECCAS            : int  0 0 0 0 0 0 0 0 0 0 ...\n",
      " $ Contributor_ECOWAS           : int  0 0 0 0 0 0 0 0 0 0 ...\n",
      " $ Contributor_IGAD             : int  0 0 0 0 0 0 0 0 0 0 ...\n",
      " $ Contributor_SADC             : int  0 0 0 0 0 0 0 0 0 0 ...\n",
      " $ Mission                      : Factor w/ 83 levels \"BINUB\",\"BNUB\",..: 21 32 82 36 39 82 35 36 39 82 ...\n",
      " $ Mission_Country              : Factor w/ 44 levels \"Afghanistan\",..: 19 2 22 11 20 22 40 11 20 22 ...\n",
      " $ Mission_Country_ISO-3        : Factor w/ 42 levels \"AFG\",\"AGO\",\"BDI\",..: 15 2 20 9 18 20 38 9 18 20 ...\n",
      " $ Mission_HQ                   : Factor w/ 50 levels \"\",\"Abidjan\",\"Abyei Town\",..: 45 31 22 37 46 22 12 37 46 22 ...\n",
      " $ Mission_HQ_Longitude         : num  14.1 -8.84 31.78 35.17 34.51 ...\n",
      " $ Mission_HQ_Latitude          : num  -87.2 13.2 35.2 33.4 47.9 ...\n",
      " $ Mission_Continent            : Factor w/ 4 levels \"Africa\",\"Asia\",..: 4 1 2 2 2 2 2 2 2 2 ...\n",
      " $ Mission_Region               : Factor w/ 12 levels \"Caribbean\",\"Central America\",..: 2 5 12 12 9 12 12 12 9 12 ...\n",
      " $ Mission_UN_Bloc              : Factor w/ 6 levels \"AG\",\"APG\",\"EEG\",..: 4 1 6 2 2 6 2 2 2 6 ...\n",
      " $ Mission_P5G4A3               : Factor w/ 1 level \"None\": 1 1 1 1 1 1 1 1 1 1 ...\n",
      " $ Mission_NAM                  : int  1 1 0 0 1 0 1 0 1 0 ...\n",
      " $ Mission_G77                  : int  1 1 0 0 1 0 1 0 1 0 ...\n",
      " $ Mission_AU                   : int  0 1 0 0 0 0 0 0 0 0 ...\n",
      " $ Mission_Arab_League          : int  0 0 0 0 0 0 1 0 0 0 ...\n",
      " $ Mission_OIC                  : int  0 0 0 0 1 0 1 0 1 0 ...\n",
      " $ Mission_CIS                  : int  0 0 0 0 0 0 0 0 0 0 ...\n",
      " $ Mission_G20                  : int  0 0 0 0 0 0 0 0 0 0 ...\n",
      " $ Mission_EU                   : int  0 0 0 1 0 0 0 1 0 0 ...\n",
      " $ Mission_NATO                 : int  0 0 0 0 0 0 0 0 0 0 ...\n",
      " $ Mission_G8                   : int  0 0 0 0 0 0 0 0 0 0 ...\n",
      " $ Mission_OECD                 : int  0 0 1 0 0 1 0 0 0 1 ...\n",
      " $ Mission_ASEAN                : int  0 0 0 0 0 0 0 0 0 0 ...\n",
      " $ Mission_OAS                  : int  1 0 0 0 0 0 0 0 0 0 ...\n",
      " $ Mission_Shanghai             : int  0 0 0 0 0 0 0 0 0 0 ...\n",
      " $ Mission_GCC                  : int  0 0 0 0 0 0 0 0 0 0 ...\n",
      " $ Mission_UMA                  : int  0 0 0 0 0 0 0 0 0 0 ...\n",
      " $ Mission_COMESA               : int  0 0 0 0 0 0 0 0 0 0 ...\n",
      " $ Mission_CENSAD               : int  0 0 0 0 0 0 0 0 0 0 ...\n",
      " $ Mission_EAC                  : int  0 0 0 0 0 0 0 0 0 0 ...\n",
      " $ Mission_ECCAS                : int  0 1 0 0 0 0 0 0 0 0 ...\n",
      " $ Mission_ECOWAS               : int  0 0 0 0 0 0 0 0 0 0 ...\n",
      " $ Mission_IGAD                 : int  0 0 0 0 0 0 0 0 0 0 ...\n",
      " $ Mission_SADC                 : int  0 1 0 0 0 0 0 0 0 0 ...\n",
      " $ Experts_on_Mission           : num  NA NA NA NA NA NA NA NA NA NA ...\n",
      " $ Formed_Police_Units          : num  NA NA NA NA NA NA NA NA NA NA ...\n",
      " $ Inidividual_Police           : num  NA NA NA NA NA NA NA NA NA NA ...\n",
      " $ Civilian_Police              : num  NA NA NA 26 NA NA NA NA NA NA ...\n",
      " $ Troops                       : num  29 6 4 NA 2 13 532 410 11 14 ...\n",
      " $ Observers                    : num  NA NA NA NA NA NA NA NA NA NA ...\n",
      " $ Total                        : num  29 6 4 26 2 13 532 410 11 14 ...\n",
      " $ Year                         : int  1990 1990 1990 1990 1990 1990 1990 1990 1990 1990 ...\n",
      " $ DefSpendGDP%                 : num  1.45 1.45 1.45 2.08 2.08 ...\n"
     ]
    }
   ],
   "source": [
    "str(contrib)"
   ]
  },
  {
   "cell_type": "code",
   "execution_count": 4,
   "metadata": {},
   "outputs": [
    {
     "name": "stdout",
     "output_type": "stream",
     "text": [
      "'data.frame':\t151845 obs. of  9 variables:\n",
      " $ Date               : num  7638 7638 7638 7638 7638 ...\n",
      " $ Experts_on_Mission : num  0 0 0 0 0 0 0 0 0 0 ...\n",
      " $ Formed_Police_Units: num  0 0 0 0 0 0 0 0 0 0 ...\n",
      " $ Inidividual_Police : num  0 0 0 0 0 0 0 0 0 0 ...\n",
      " $ Civilian_Police    : num  0 0 0 26 0 0 0 0 0 0 ...\n",
      " $ Troops             : num  29 6 4 0 2 13 532 410 11 14 ...\n",
      " $ Observers          : num  0 0 0 0 0 0 0 0 0 0 ...\n",
      " $ Total              : num  29 6 4 26 2 13 532 410 11 14 ...\n",
      " $ DefSpendGDP%       : num  1.45 1.45 1.45 2.08 2.08 ...\n"
     ]
    }
   ],
   "source": [
    "# Extract variables date, DefSpendGDP%, and dependent variables, make all numeric for regression\n",
    "vars <- c(\"Date\", \"Experts_on_Mission\", \"Formed_Police_Units\", \"Inidividual_Police\", \"Civilian_Police\", \"Troops\", \"Observers\", \"Total\", \"DefSpendGDP%\")\n",
    "contrib <- contrib[,(colnames(contrib) %in% vars)]\n",
    "contrib$Date <- as_date(contrib$Date)\n",
    "contrib$Date <- as.numeric(contrib$Date)\n",
    "contrib[is.na(contrib)] = 0\n",
    "str(contrib)"
   ]
  },
  {
   "cell_type": "code",
   "execution_count": 5,
   "metadata": {},
   "outputs": [
    {
     "data": {
      "text/html": [
       "<table>\n",
       "<thead><tr><th scope=col>Date</th><th scope=col>Experts_on_Mission</th><th scope=col>Formed_Police_Units</th><th scope=col>Individual_Police</th><th scope=col>Civilian_Police</th><th scope=col>Troops</th><th scope=col>Observers</th><th scope=col>Total</th><th scope=col>DefSpend</th></tr></thead>\n",
       "<tbody>\n",
       "\t<tr><td>7638    </td><td>0       </td><td>0       </td><td>0       </td><td> 0      </td><td>29      </td><td>0       </td><td>29      </td><td>1.450909</td></tr>\n",
       "\t<tr><td>7638    </td><td>0       </td><td>0       </td><td>0       </td><td> 0      </td><td> 6      </td><td>0       </td><td> 6      </td><td>1.450909</td></tr>\n",
       "\t<tr><td>7638    </td><td>0       </td><td>0       </td><td>0       </td><td> 0      </td><td> 4      </td><td>0       </td><td> 4      </td><td>1.450909</td></tr>\n",
       "\t<tr><td>7638    </td><td>0       </td><td>0       </td><td>0       </td><td>26      </td><td> 0      </td><td>0       </td><td>26      </td><td>2.075906</td></tr>\n",
       "\t<tr><td>7638    </td><td>0       </td><td>0       </td><td>0       </td><td> 0      </td><td> 2      </td><td>0       </td><td> 2      </td><td>2.075906</td></tr>\n",
       "\t<tr><td>7638    </td><td>0       </td><td>0       </td><td>0       </td><td> 0      </td><td>13      </td><td>0       </td><td>13      </td><td>2.075906</td></tr>\n",
       "</tbody>\n",
       "</table>\n"
      ],
      "text/latex": [
       "\\begin{tabular}{r|lllllllll}\n",
       " Date & Experts\\_on\\_Mission & Formed\\_Police\\_Units & Individual\\_Police & Civilian\\_Police & Troops & Observers & Total & DefSpend\\\\\n",
       "\\hline\n",
       "\t 7638     & 0        & 0        & 0        &  0       & 29       & 0        & 29       & 1.450909\\\\\n",
       "\t 7638     & 0        & 0        & 0        &  0       &  6       & 0        &  6       & 1.450909\\\\\n",
       "\t 7638     & 0        & 0        & 0        &  0       &  4       & 0        &  4       & 1.450909\\\\\n",
       "\t 7638     & 0        & 0        & 0        & 26       &  0       & 0        & 26       & 2.075906\\\\\n",
       "\t 7638     & 0        & 0        & 0        &  0       &  2       & 0        &  2       & 2.075906\\\\\n",
       "\t 7638     & 0        & 0        & 0        &  0       & 13       & 0        & 13       & 2.075906\\\\\n",
       "\\end{tabular}\n"
      ],
      "text/markdown": [
       "\n",
       "Date | Experts_on_Mission | Formed_Police_Units | Individual_Police | Civilian_Police | Troops | Observers | Total | DefSpend | \n",
       "|---|---|---|---|---|---|\n",
       "| 7638     | 0        | 0        | 0        |  0       | 29       | 0        | 29       | 1.450909 | \n",
       "| 7638     | 0        | 0        | 0        |  0       |  6       | 0        |  6       | 1.450909 | \n",
       "| 7638     | 0        | 0        | 0        |  0       |  4       | 0        |  4       | 1.450909 | \n",
       "| 7638     | 0        | 0        | 0        | 26       |  0       | 0        | 26       | 2.075906 | \n",
       "| 7638     | 0        | 0        | 0        |  0       |  2       | 0        |  2       | 2.075906 | \n",
       "| 7638     | 0        | 0        | 0        |  0       | 13       | 0        | 13       | 2.075906 | \n",
       "\n",
       "\n"
      ],
      "text/plain": [
       "  Date Experts_on_Mission Formed_Police_Units Individual_Police Civilian_Police\n",
       "1 7638 0                  0                   0                  0             \n",
       "2 7638 0                  0                   0                  0             \n",
       "3 7638 0                  0                   0                  0             \n",
       "4 7638 0                  0                   0                 26             \n",
       "5 7638 0                  0                   0                  0             \n",
       "6 7638 0                  0                   0                  0             \n",
       "  Troops Observers Total DefSpend\n",
       "1 29     0         29    1.450909\n",
       "2  6     0          6    1.450909\n",
       "3  4     0          4    1.450909\n",
       "4  0     0         26    2.075906\n",
       "5  2     0          2    2.075906\n",
       "6 13     0         13    2.075906"
      ]
     },
     "metadata": {},
     "output_type": "display_data"
    }
   ],
   "source": [
    "#Rename some columns that bug me (and getting rid of the % that R doesn't like)\n",
    "names(contrib)[names(contrib) == \"Inidividual_Police\"] <- \"Individual_Police\"\n",
    "names(contrib)[names(contrib) == \"DefSpendGDP%\"] <- \"DefSpend\"\n",
    "head(contrib)\n"
   ]
  },
  {
   "cell_type": "code",
   "execution_count": 6,
   "metadata": {},
   "outputs": [],
   "source": [
    "library(caTools)\n",
    "set.seed(1000) # set.seed() will help us to reproduce the results.\n",
    "\n",
    "split = sample.split(contrib, SplitRatio = 0.7)\n",
    "\n",
    "# Train data will have 70% of data\n",
    "train_data = subset(contrib, split==TRUE)\n",
    "\n",
    "# Test data will have the rest 30% of data\n",
    "test_data  = subset(contrib, split==FALSE)"
   ]
  },
  {
   "cell_type": "code",
   "execution_count": 7,
   "metadata": {},
   "outputs": [
    {
     "data": {
      "text/html": [
       "<table>\n",
       "<thead><tr><th></th><th scope=col>Date</th><th scope=col>Experts_on_Mission</th><th scope=col>Formed_Police_Units</th><th scope=col>Individual_Police</th><th scope=col>Civilian_Police</th><th scope=col>Troops</th><th scope=col>Observers</th><th scope=col>Total</th><th scope=col>DefSpend</th></tr></thead>\n",
       "<tbody>\n",
       "\t<tr><th scope=row>Date</th><td> 1.00000000  </td><td> 0.28646502  </td><td>0.14327954   </td><td>0.1929675851 </td><td>0.08582623   </td><td>0.02683658   </td><td>-0.09091557  </td><td>0.03472192   </td><td>-0.1705215839</td></tr>\n",
       "\t<tr><th scope=row>Experts_on_Mission</th><td> 0.28646502  </td><td> 1.00000000  </td><td>0.21997439   </td><td>0.2053625588 </td><td>0.17084971   </td><td>0.33529559   </td><td> 0.46221204  </td><td>0.35110962   </td><td>-0.0100090933</td></tr>\n",
       "\t<tr><th scope=row>Formed_Police_Units</th><td> 0.14327954  </td><td> 0.21997439  </td><td>1.00000000   </td><td>0.2609786941 </td><td>0.75018136   </td><td>0.20667393   </td><td> 0.07556786  </td><td>0.29208203   </td><td> 0.0455272277</td></tr>\n",
       "\t<tr><th scope=row>Individual_Police</th><td> 0.19296759  </td><td> 0.20536256  </td><td>0.26097869   </td><td>1.0000000000 </td><td>0.45146189   </td><td>0.09894434   </td><td> 0.04195991  </td><td>0.15129567   </td><td> 0.0003110808</td></tr>\n",
       "\t<tr><th scope=row>Civilian_Police</th><td> 0.08582623  </td><td> 0.17084971  </td><td>0.75018136   </td><td>0.4514618852 </td><td>1.00000000   </td><td>0.22106110   </td><td> 0.07049268  </td><td>0.33654846   </td><td> 0.0965606090</td></tr>\n",
       "\t<tr><th scope=row>Troops</th><td> 0.02683658  </td><td> 0.33529559  </td><td>0.20667393   </td><td>0.0989443450 </td><td>0.22106110   </td><td>1.00000000   </td><td> 0.30046829  </td><td>0.99262007   </td><td> 0.0450727009</td></tr>\n",
       "\t<tr><th scope=row>Observers</th><td>-0.09091557  </td><td> 0.46221204  </td><td>0.07556786   </td><td>0.0419599069 </td><td>0.07049268   </td><td>0.30046829   </td><td> 1.00000000  </td><td>0.31482117   </td><td> 0.0696045275</td></tr>\n",
       "\t<tr><th scope=row>Total</th><td> 0.03472192  </td><td> 0.35110962  </td><td>0.29208203   </td><td>0.1512956735 </td><td>0.33654846   </td><td>0.99262007   </td><td> 0.31482117  </td><td>1.00000000   </td><td> 0.0563869971</td></tr>\n",
       "\t<tr><th scope=row>DefSpend</th><td>-0.17052158  </td><td>-0.01000909  </td><td>0.04552723   </td><td>0.0003110808 </td><td>0.09656061   </td><td>0.04507270   </td><td> 0.06960453  </td><td>0.05638700   </td><td> 1.0000000000</td></tr>\n",
       "</tbody>\n",
       "</table>\n"
      ],
      "text/latex": [
       "\\begin{tabular}{r|lllllllll}\n",
       "  & Date & Experts\\_on\\_Mission & Formed\\_Police\\_Units & Individual\\_Police & Civilian\\_Police & Troops & Observers & Total & DefSpend\\\\\n",
       "\\hline\n",
       "\tDate &  1.00000000   &  0.28646502   & 0.14327954    & 0.1929675851  & 0.08582623    & 0.02683658    & -0.09091557   & 0.03472192    & -0.1705215839\\\\\n",
       "\tExperts\\_on\\_Mission &  0.28646502   &  1.00000000   & 0.21997439    & 0.2053625588  & 0.17084971    & 0.33529559    &  0.46221204   & 0.35110962    & -0.0100090933\\\\\n",
       "\tFormed\\_Police\\_Units &  0.14327954   &  0.21997439   & 1.00000000    & 0.2609786941  & 0.75018136    & 0.20667393    &  0.07556786   & 0.29208203    &  0.0455272277\\\\\n",
       "\tIndividual\\_Police &  0.19296759   &  0.20536256   & 0.26097869    & 1.0000000000  & 0.45146189    & 0.09894434    &  0.04195991   & 0.15129567    &  0.0003110808\\\\\n",
       "\tCivilian\\_Police &  0.08582623   &  0.17084971   & 0.75018136    & 0.4514618852  & 1.00000000    & 0.22106110    &  0.07049268   & 0.33654846    &  0.0965606090\\\\\n",
       "\tTroops &  0.02683658   &  0.33529559   & 0.20667393    & 0.0989443450  & 0.22106110    & 1.00000000    &  0.30046829   & 0.99262007    &  0.0450727009\\\\\n",
       "\tObservers & -0.09091557   &  0.46221204   & 0.07556786    & 0.0419599069  & 0.07049268    & 0.30046829    &  1.00000000   & 0.31482117    &  0.0696045275\\\\\n",
       "\tTotal &  0.03472192   &  0.35110962   & 0.29208203    & 0.1512956735  & 0.33654846    & 0.99262007    &  0.31482117   & 1.00000000    &  0.0563869971\\\\\n",
       "\tDefSpend & -0.17052158   & -0.01000909   & 0.04552723    & 0.0003110808  & 0.09656061    & 0.04507270    &  0.06960453   & 0.05638700    &  1.0000000000\\\\\n",
       "\\end{tabular}\n"
      ],
      "text/markdown": [
       "\n",
       "| <!--/--> | Date | Experts_on_Mission | Formed_Police_Units | Individual_Police | Civilian_Police | Troops | Observers | Total | DefSpend | \n",
       "|---|---|---|---|---|---|---|---|---|\n",
       "| Date |  1.00000000   |  0.28646502   | 0.14327954    | 0.1929675851  | 0.08582623    | 0.02683658    | -0.09091557   | 0.03472192    | -0.1705215839 | \n",
       "| Experts_on_Mission |  0.28646502   |  1.00000000   | 0.21997439    | 0.2053625588  | 0.17084971    | 0.33529559    |  0.46221204   | 0.35110962    | -0.0100090933 | \n",
       "| Formed_Police_Units |  0.14327954   |  0.21997439   | 1.00000000    | 0.2609786941  | 0.75018136    | 0.20667393    |  0.07556786   | 0.29208203    |  0.0455272277 | \n",
       "| Individual_Police |  0.19296759   |  0.20536256   | 0.26097869    | 1.0000000000  | 0.45146189    | 0.09894434    |  0.04195991   | 0.15129567    |  0.0003110808 | \n",
       "| Civilian_Police |  0.08582623   |  0.17084971   | 0.75018136    | 0.4514618852  | 1.00000000    | 0.22106110    |  0.07049268   | 0.33654846    |  0.0965606090 | \n",
       "| Troops |  0.02683658   |  0.33529559   | 0.20667393    | 0.0989443450  | 0.22106110    | 1.00000000    |  0.30046829   | 0.99262007    |  0.0450727009 | \n",
       "| Observers | -0.09091557   |  0.46221204   | 0.07556786    | 0.0419599069  | 0.07049268    | 0.30046829    |  1.00000000   | 0.31482117    |  0.0696045275 | \n",
       "| Total |  0.03472192   |  0.35110962   | 0.29208203    | 0.1512956735  | 0.33654846    | 0.99262007    |  0.31482117   | 1.00000000    |  0.0563869971 | \n",
       "| DefSpend | -0.17052158   | -0.01000909   | 0.04552723    | 0.0003110808  | 0.09656061    | 0.04507270    |  0.06960453   | 0.05638700    |  1.0000000000 | \n",
       "\n",
       "\n"
      ],
      "text/plain": [
       "                    Date        Experts_on_Mission Formed_Police_Units\n",
       "Date                 1.00000000  0.28646502        0.14327954         \n",
       "Experts_on_Mission   0.28646502  1.00000000        0.21997439         \n",
       "Formed_Police_Units  0.14327954  0.21997439        1.00000000         \n",
       "Individual_Police    0.19296759  0.20536256        0.26097869         \n",
       "Civilian_Police      0.08582623  0.17084971        0.75018136         \n",
       "Troops               0.02683658  0.33529559        0.20667393         \n",
       "Observers           -0.09091557  0.46221204        0.07556786         \n",
       "Total                0.03472192  0.35110962        0.29208203         \n",
       "DefSpend            -0.17052158 -0.01000909        0.04552723         \n",
       "                    Individual_Police Civilian_Police Troops     Observers  \n",
       "Date                0.1929675851      0.08582623      0.02683658 -0.09091557\n",
       "Experts_on_Mission  0.2053625588      0.17084971      0.33529559  0.46221204\n",
       "Formed_Police_Units 0.2609786941      0.75018136      0.20667393  0.07556786\n",
       "Individual_Police   1.0000000000      0.45146189      0.09894434  0.04195991\n",
       "Civilian_Police     0.4514618852      1.00000000      0.22106110  0.07049268\n",
       "Troops              0.0989443450      0.22106110      1.00000000  0.30046829\n",
       "Observers           0.0419599069      0.07049268      0.30046829  1.00000000\n",
       "Total               0.1512956735      0.33654846      0.99262007  0.31482117\n",
       "DefSpend            0.0003110808      0.09656061      0.04507270  0.06960453\n",
       "                    Total      DefSpend     \n",
       "Date                0.03472192 -0.1705215839\n",
       "Experts_on_Mission  0.35110962 -0.0100090933\n",
       "Formed_Police_Units 0.29208203  0.0455272277\n",
       "Individual_Police   0.15129567  0.0003110808\n",
       "Civilian_Police     0.33654846  0.0965606090\n",
       "Troops              0.99262007  0.0450727009\n",
       "Observers           0.31482117  0.0696045275\n",
       "Total               1.00000000  0.0563869971\n",
       "DefSpend            0.05638700  1.0000000000"
      ]
     },
     "metadata": {},
     "output_type": "display_data"
    }
   ],
   "source": [
    "cor(train_data)"
   ]
  },
  {
   "cell_type": "markdown",
   "metadata": {},
   "source": [
    "The strongest correlations seem to be that one kind of contribution begets others. This makes sense as nations will send \"packages\" of forces to missions that include multiple kinds of personnel. The specific theory I want to test, though, is the idea that nations with low defense spending send extra peacekeepers for the training and because of the reimbursement money. "
   ]
  },
  {
   "cell_type": "code",
   "execution_count": 8,
   "metadata": {},
   "outputs": [
    {
     "data": {
      "text/plain": [
       "\n",
       "Call:\n",
       "lm(formula = train_data$Troops ~ train_data$DefSpend)\n",
       "\n",
       "Residuals:\n",
       "   Min     1Q Median     3Q    Max \n",
       "-256.6 -124.7 -114.4  -99.2 9633.0 \n",
       "\n",
       "Coefficients:\n",
       "                    Estimate Std. Error t value Pr(>|t|)    \n",
       "(Intercept)           92.205      2.481   37.16   <2e-16 ***\n",
       "train_data$DefSpend   17.084      1.190   14.36   <2e-16 ***\n",
       "---\n",
       "Signif. codes:  0 '***' 0.001 '**' 0.01 '*' 0.05 '.' 0.1 ' ' 1\n",
       "\n",
       "Residual standard error: 420.9 on 101228 degrees of freedom\n",
       "Multiple R-squared:  0.002032,\tAdjusted R-squared:  0.002022 \n",
       "F-statistic: 206.1 on 1 and 101228 DF,  p-value: < 2.2e-16\n"
      ]
     },
     "metadata": {},
     "output_type": "display_data"
    }
   ],
   "source": [
    "spend_reg <- lm(train_data$Troops ~ train_data$DefSpend)\n",
    "summary(spend_reg)"
   ]
  },
  {
   "cell_type": "code",
   "execution_count": 9,
   "metadata": {},
   "outputs": [
    {
     "data": {
      "text/plain": [
       "\n",
       "Call:\n",
       "lm(formula = train_data$Troops ~ train_data$DefSpend + train_data$Date)\n",
       "\n",
       "Residuals:\n",
       "   Min     1Q Median     3Q    Max \n",
       "-248.1 -128.5 -113.2  -91.8 9654.9 \n",
       "\n",
       "Coefficients:\n",
       "                     Estimate Std. Error t value Pr(>|t|)    \n",
       "(Intercept)         1.162e+01  7.631e+00   1.523    0.128    \n",
       "train_data$DefSpend 1.938e+01  1.207e+00  16.057   <2e-16 ***\n",
       "train_data$Date     5.629e-03  5.041e-04  11.165   <2e-16 ***\n",
       "---\n",
       "Signif. codes:  0 '***' 0.001 '**' 0.01 '*' 0.05 '.' 0.1 ' ' 1\n",
       "\n",
       "Residual standard error: 420.6 on 101227 degrees of freedom\n",
       "Multiple R-squared:  0.003259,\tAdjusted R-squared:  0.003239 \n",
       "F-statistic: 165.5 on 2 and 101227 DF,  p-value: < 2.2e-16\n"
      ]
     },
     "metadata": {},
     "output_type": "display_data"
    }
   ],
   "source": [
    "# So the immediate result is that there is very little predictive value in defense spending...maybe it changes over time?\n",
    "spend_reg2 <- lm(train_data$Troops ~ train_data$DefSpend + train_data$Date)\n",
    "summary(spend_reg2)"
   ]
  },
  {
   "cell_type": "code",
   "execution_count": 10,
   "metadata": {},
   "outputs": [
    {
     "data": {
      "text/plain": [
       "\n",
       "Call:\n",
       "lm(formula = train_data$Total ~ train_data$DefSpend + train_data$Date)\n",
       "\n",
       "Residuals:\n",
       "   Min     1Q Median     3Q    Max \n",
       "-306.8 -143.4 -120.9  -82.6 9647.6 \n",
       "\n",
       "Coefficients:\n",
       "                      Estimate Std. Error t value Pr(>|t|)    \n",
       "(Intercept)         -4.1483589  7.9405719  -0.522    0.601    \n",
       "train_data$DefSpend 25.3351792  1.2560079  20.171   <2e-16 ***\n",
       "train_data$Date      0.0075292  0.0005246  14.353   <2e-16 ***\n",
       "---\n",
       "Signif. codes:  0 '***' 0.001 '**' 0.01 '*' 0.05 '.' 0.1 ' ' 1\n",
       "\n",
       "Residual standard error: 437.7 on 101227 degrees of freedom\n",
       "Multiple R-squared:  0.005204,\tAdjusted R-squared:  0.005184 \n",
       "F-statistic: 264.8 on 2 and 101227 DF,  p-value: < 2.2e-16\n"
      ]
     },
     "metadata": {},
     "output_type": "display_data"
    }
   ],
   "source": [
    "# Maybe there's more correlation with total contributions vs just Troops\n",
    "spend_reg3 <- lm(train_data$Total ~ train_data$DefSpend + train_data$Date)\n",
    "summary(spend_reg3)"
   ]
  },
  {
   "cell_type": "code",
   "execution_count": 12,
   "metadata": {},
   "outputs": [],
   "source": [
    "# Maybe try a log regression with bins for different quantities of Troops: none, some, more, lots...\n"
   ]
  }
 ],
 "metadata": {
  "kernelspec": {
   "display_name": "R",
   "language": "R",
   "name": "ir"
  },
  "language_info": {
   "codemirror_mode": "r",
   "file_extension": ".r",
   "mimetype": "text/x-r-source",
   "name": "R",
   "pygments_lexer": "r",
   "version": "3.4.0"
  }
 },
 "nbformat": 4,
 "nbformat_minor": 4
}
