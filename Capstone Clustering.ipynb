{
 "cells": [
  {
   "cell_type": "code",
   "execution_count": 2,
   "metadata": {},
   "outputs": [
    {
     "name": "stderr",
     "output_type": "stream",
     "text": [
      "\n",
      "Attaching package: 'dplyr'\n",
      "\n",
      "The following objects are masked from 'package:stats':\n",
      "\n",
      "    filter, lag\n",
      "\n",
      "The following objects are masked from 'package:base':\n",
      "\n",
      "    intersect, setdiff, setequal, union\n",
      "\n",
      "\n",
      "Attaching package: 'lubridate'\n",
      "\n",
      "The following object is masked from 'package:base':\n",
      "\n",
      "    date\n",
      "\n"
     ]
    }
   ],
   "source": [
    "library(ggplot2)\n",
    "library(dplyr)\n",
    "library(tidyr)\n",
    "library(dygraphs)\n",
    "library(lubridate)"
   ]
  },
  {
   "cell_type": "code",
   "execution_count": 3,
   "metadata": {},
   "outputs": [],
   "source": [
    "contrib <- read.csv('contribsandspend.csv', check.names=FALSE)\n",
    "#head(contrib)\n",
    "#summary(contrib)"
   ]
  },
  {
   "cell_type": "code",
   "execution_count": 4,
   "metadata": {},
   "outputs": [
    {
     "name": "stdout",
     "output_type": "stream",
     "text": [
      "'data.frame':\t151845 obs. of  76 variables:\n",
      " $                              : int  0 1 2 3 4 5 6 7 8 9 ...\n",
      " $ Date                         : Factor w/ 334 levels \"1990-11-30\",\"1990-12-31\",..: 1 1 1 1 1 1 1 1 1 1 ...\n",
      " $ Contributor                  : Factor w/ 156 levels \"Albania\",\"Algeria\",..: 4 4 4 6 6 6 7 7 7 7 ...\n",
      " $ Contributor_ISO-3            : Factor w/ 155 levels \"ALB\",\"ARE\",\"ARG\",..: 3 3 3 6 6 6 7 7 7 7 ...\n",
      " $ Contributor_Capital          : Factor w/ 157 levels \"Abu Dhabi\",\"Abuja\",..: 35 35 35 38 38 38 146 146 146 146 ...\n",
      " $ Contributor_Capital_Latitude : num  -36.5 -36.5 -36.5 -35.2 -35.2 ...\n",
      " $ Contributor_Capital_Longitude: num  -60 -60 -60 149 149 ...\n",
      " $ Contributor_Continent        : Factor w/ 6 levels \"Africa\",\"Asia\",..: 6 6 6 5 5 5 3 3 3 3 ...\n",
      " $ Contributor_Region           : Factor w/ 22 levels \"Australia and New Zealand\",..: 15 15 15 1 1 1 22 22 22 22 ...\n",
      " $ Contributor UN_Bloc          : Factor w/ 6 levels \"AG\",\"APG\",\"EEG\",..: 4 4 4 5 5 5 5 5 5 5 ...\n",
      " $ Contributor_P5G4A3           : Factor w/ 4 levels \"A3\",\"G4\",\"None\",..: 3 3 3 3 3 3 3 3 3 3 ...\n",
      " $ Contributor_NAM              : int  0 0 0 0 0 0 0 0 0 0 ...\n",
      " $ Contributor_G77              : int  1 1 1 0 0 0 0 0 0 0 ...\n",
      " $ Contributor_AU               : int  0 0 0 0 0 0 0 0 0 0 ...\n",
      " $ Contributor_Arab_League      : int  0 0 0 0 0 0 0 0 0 0 ...\n",
      " $ Contributor_OIC              : int  0 0 0 0 0 0 0 0 0 0 ...\n",
      " $ Contributor_CIS              : int  0 0 0 0 0 0 0 0 0 0 ...\n",
      " $ Contributor_G20              : int  1 1 1 1 1 1 0 0 0 0 ...\n",
      " $ Contributor_EU               : int  0 0 0 0 0 0 1 1 1 1 ...\n",
      " $ Contributor_NATO             : int  0 0 0 0 0 0 0 0 0 0 ...\n",
      " $ Contributor_G8               : int  0 0 0 0 0 0 0 0 0 0 ...\n",
      " $ Contributor_OECD             : int  0 0 0 1 1 1 1 1 1 1 ...\n",
      " $ Contributor_ASEAN            : int  0 0 0 0 0 0 0 0 0 0 ...\n",
      " $ Contributor_OAS              : int  1 1 1 0 0 0 0 0 0 0 ...\n",
      " $ Contributor_Shanghai         : int  0 0 0 0 0 0 0 0 0 0 ...\n",
      " $ Contributor_GCC              : int  0 0 0 0 0 0 0 0 0 0 ...\n",
      " $ Contributor_UMA              : int  0 0 0 0 0 0 0 0 0 0 ...\n",
      " $ Contributor_COMESA           : int  0 0 0 0 0 0 0 0 0 0 ...\n",
      " $ Contributor_CENSAD           : int  0 0 0 0 0 0 0 0 0 0 ...\n",
      " $ Contributor_EAC              : int  0 0 0 0 0 0 0 0 0 0 ...\n",
      " $ Contributor_ECCAS            : int  0 0 0 0 0 0 0 0 0 0 ...\n",
      " $ Contributor_ECOWAS           : int  0 0 0 0 0 0 0 0 0 0 ...\n",
      " $ Contributor_IGAD             : int  0 0 0 0 0 0 0 0 0 0 ...\n",
      " $ Contributor_SADC             : int  0 0 0 0 0 0 0 0 0 0 ...\n",
      " $ Mission                      : Factor w/ 83 levels \"BINUB\",\"BNUB\",..: 21 32 82 36 39 82 35 36 39 82 ...\n",
      " $ Mission_Country              : Factor w/ 44 levels \"Afghanistan\",..: 19 2 22 11 20 22 40 11 20 22 ...\n",
      " $ Mission_Country_ISO-3        : Factor w/ 42 levels \"AFG\",\"AGO\",\"BDI\",..: 15 2 20 9 18 20 38 9 18 20 ...\n",
      " $ Mission_HQ                   : Factor w/ 50 levels \"\",\"Abidjan\",\"Abyei Town\",..: 45 31 22 37 46 22 12 37 46 22 ...\n",
      " $ Mission_HQ_Longitude         : num  14.1 -8.84 31.78 35.17 34.51 ...\n",
      " $ Mission_HQ_Latitude          : num  -87.2 13.2 35.2 33.4 47.9 ...\n",
      " $ Mission_Continent            : Factor w/ 4 levels \"Africa\",\"Asia\",..: 4 1 2 2 2 2 2 2 2 2 ...\n",
      " $ Mission_Region               : Factor w/ 12 levels \"Caribbean\",\"Central America\",..: 2 5 12 12 9 12 12 12 9 12 ...\n",
      " $ Mission_UN_Bloc              : Factor w/ 6 levels \"AG\",\"APG\",\"EEG\",..: 4 1 6 2 2 6 2 2 2 6 ...\n",
      " $ Mission_P5G4A3               : Factor w/ 1 level \"None\": 1 1 1 1 1 1 1 1 1 1 ...\n",
      " $ Mission_NAM                  : int  1 1 0 0 1 0 1 0 1 0 ...\n",
      " $ Mission_G77                  : int  1 1 0 0 1 0 1 0 1 0 ...\n",
      " $ Mission_AU                   : int  0 1 0 0 0 0 0 0 0 0 ...\n",
      " $ Mission_Arab_League          : int  0 0 0 0 0 0 1 0 0 0 ...\n",
      " $ Mission_OIC                  : int  0 0 0 0 1 0 1 0 1 0 ...\n",
      " $ Mission_CIS                  : int  0 0 0 0 0 0 0 0 0 0 ...\n",
      " $ Mission_G20                  : int  0 0 0 0 0 0 0 0 0 0 ...\n",
      " $ Mission_EU                   : int  0 0 0 1 0 0 0 1 0 0 ...\n",
      " $ Mission_NATO                 : int  0 0 0 0 0 0 0 0 0 0 ...\n",
      " $ Mission_G8                   : int  0 0 0 0 0 0 0 0 0 0 ...\n",
      " $ Mission_OECD                 : int  0 0 1 0 0 1 0 0 0 1 ...\n",
      " $ Mission_ASEAN                : int  0 0 0 0 0 0 0 0 0 0 ...\n",
      " $ Mission_OAS                  : int  1 0 0 0 0 0 0 0 0 0 ...\n",
      " $ Mission_Shanghai             : int  0 0 0 0 0 0 0 0 0 0 ...\n",
      " $ Mission_GCC                  : int  0 0 0 0 0 0 0 0 0 0 ...\n",
      " $ Mission_UMA                  : int  0 0 0 0 0 0 0 0 0 0 ...\n",
      " $ Mission_COMESA               : int  0 0 0 0 0 0 0 0 0 0 ...\n",
      " $ Mission_CENSAD               : int  0 0 0 0 0 0 0 0 0 0 ...\n",
      " $ Mission_EAC                  : int  0 0 0 0 0 0 0 0 0 0 ...\n",
      " $ Mission_ECCAS                : int  0 1 0 0 0 0 0 0 0 0 ...\n",
      " $ Mission_ECOWAS               : int  0 0 0 0 0 0 0 0 0 0 ...\n",
      " $ Mission_IGAD                 : int  0 0 0 0 0 0 0 0 0 0 ...\n",
      " $ Mission_SADC                 : int  0 1 0 0 0 0 0 0 0 0 ...\n",
      " $ Experts_on_Mission           : num  NA NA NA NA NA NA NA NA NA NA ...\n",
      " $ Formed_Police_Units          : num  NA NA NA NA NA NA NA NA NA NA ...\n",
      " $ Inidividual_Police           : num  NA NA NA NA NA NA NA NA NA NA ...\n",
      " $ Civilian_Police              : num  NA NA NA 26 NA NA NA NA NA NA ...\n",
      " $ Troops                       : num  29 6 4 NA 2 13 532 410 11 14 ...\n",
      " $ Observers                    : num  NA NA NA NA NA NA NA NA NA NA ...\n",
      " $ Total                        : num  29 6 4 26 2 13 532 410 11 14 ...\n",
      " $ Year                         : int  1990 1990 1990 1990 1990 1990 1990 1990 1990 1990 ...\n",
      " $ DefSpendGDP%                 : num  1.45 1.45 1.45 2.08 2.08 ...\n"
     ]
    }
   ],
   "source": [
    "str(contrib)"
   ]
  },
  {
   "cell_type": "code",
   "execution_count": 5,
   "metadata": {},
   "outputs": [],
   "source": [
    "#Rename some columns that bug me (and getting rid of the % that R doesn't like)\n",
    "names(contrib)[names(contrib) == \"Inidividual_Police\"] <- \"Individual_Police\"\n",
    "names(contrib)[names(contrib) == \"DefSpendGDP%\"] <- \"DefSpend\""
   ]
  },
  {
   "cell_type": "code",
   "execution_count": 6,
   "metadata": {},
   "outputs": [
    {
     "data": {
      "text/html": [
       "<ol class=list-inline>\n",
       "\t<li>''</li>\n",
       "\t<li>'Contributor_NAM'</li>\n",
       "\t<li>'Contributor_G77'</li>\n",
       "\t<li>'Contributor_AU'</li>\n",
       "\t<li>'Contributor_Arab_League'</li>\n",
       "\t<li>'Contributor_OIC'</li>\n",
       "\t<li>'Contributor_CIS'</li>\n",
       "\t<li>'Contributor_G20'</li>\n",
       "\t<li>'Contributor_EU'</li>\n",
       "\t<li>'Contributor_NATO'</li>\n",
       "\t<li>'Contributor_G8'</li>\n",
       "\t<li>'Contributor_OECD'</li>\n",
       "\t<li>'Contributor_ASEAN'</li>\n",
       "\t<li>'Contributor_OAS'</li>\n",
       "\t<li>'Contributor_Shanghai'</li>\n",
       "\t<li>'Contributor_GCC'</li>\n",
       "\t<li>'Contributor_UMA'</li>\n",
       "\t<li>'Contributor_COMESA'</li>\n",
       "\t<li>'Contributor_CENSAD'</li>\n",
       "\t<li>'Contributor_EAC'</li>\n",
       "\t<li>'Contributor_ECCAS'</li>\n",
       "\t<li>'Contributor_ECOWAS'</li>\n",
       "\t<li>'Contributor_IGAD'</li>\n",
       "\t<li>'Contributor_SADC'</li>\n",
       "\t<li>'Mission_NAM'</li>\n",
       "\t<li>'Mission_G77'</li>\n",
       "\t<li>'Mission_AU'</li>\n",
       "\t<li>'Mission_Arab_League'</li>\n",
       "\t<li>'Mission_OIC'</li>\n",
       "\t<li>'Mission_CIS'</li>\n",
       "\t<li>'Mission_G20'</li>\n",
       "\t<li>'Mission_EU'</li>\n",
       "\t<li>'Mission_NATO'</li>\n",
       "\t<li>'Mission_G8'</li>\n",
       "\t<li>'Mission_OECD'</li>\n",
       "\t<li>'Mission_ASEAN'</li>\n",
       "\t<li>'Mission_OAS'</li>\n",
       "\t<li>'Mission_Shanghai'</li>\n",
       "\t<li>'Mission_GCC'</li>\n",
       "\t<li>'Mission_UMA'</li>\n",
       "\t<li>'Mission_COMESA'</li>\n",
       "\t<li>'Mission_CENSAD'</li>\n",
       "\t<li>'Mission_EAC'</li>\n",
       "\t<li>'Mission_ECCAS'</li>\n",
       "\t<li>'Mission_ECOWAS'</li>\n",
       "\t<li>'Mission_IGAD'</li>\n",
       "\t<li>'Mission_SADC'</li>\n",
       "\t<li>'Experts_on_Mission'</li>\n",
       "\t<li>'Formed_Police_Units'</li>\n",
       "\t<li>'Individual_Police'</li>\n",
       "\t<li>'Civilian_Police'</li>\n",
       "\t<li>'Troops'</li>\n",
       "\t<li>'Observers'</li>\n",
       "\t<li>'Total'</li>\n",
       "\t<li>'Year'</li>\n",
       "\t<li>'DefSpend'</li>\n",
       "</ol>\n"
      ],
      "text/latex": [
       "\\begin{enumerate*}\n",
       "\\item ''\n",
       "\\item 'Contributor\\_NAM'\n",
       "\\item 'Contributor\\_G77'\n",
       "\\item 'Contributor\\_AU'\n",
       "\\item 'Contributor\\_Arab\\_League'\n",
       "\\item 'Contributor\\_OIC'\n",
       "\\item 'Contributor\\_CIS'\n",
       "\\item 'Contributor\\_G20'\n",
       "\\item 'Contributor\\_EU'\n",
       "\\item 'Contributor\\_NATO'\n",
       "\\item 'Contributor\\_G8'\n",
       "\\item 'Contributor\\_OECD'\n",
       "\\item 'Contributor\\_ASEAN'\n",
       "\\item 'Contributor\\_OAS'\n",
       "\\item 'Contributor\\_Shanghai'\n",
       "\\item 'Contributor\\_GCC'\n",
       "\\item 'Contributor\\_UMA'\n",
       "\\item 'Contributor\\_COMESA'\n",
       "\\item 'Contributor\\_CENSAD'\n",
       "\\item 'Contributor\\_EAC'\n",
       "\\item 'Contributor\\_ECCAS'\n",
       "\\item 'Contributor\\_ECOWAS'\n",
       "\\item 'Contributor\\_IGAD'\n",
       "\\item 'Contributor\\_SADC'\n",
       "\\item 'Mission\\_NAM'\n",
       "\\item 'Mission\\_G77'\n",
       "\\item 'Mission\\_AU'\n",
       "\\item 'Mission\\_Arab\\_League'\n",
       "\\item 'Mission\\_OIC'\n",
       "\\item 'Mission\\_CIS'\n",
       "\\item 'Mission\\_G20'\n",
       "\\item 'Mission\\_EU'\n",
       "\\item 'Mission\\_NATO'\n",
       "\\item 'Mission\\_G8'\n",
       "\\item 'Mission\\_OECD'\n",
       "\\item 'Mission\\_ASEAN'\n",
       "\\item 'Mission\\_OAS'\n",
       "\\item 'Mission\\_Shanghai'\n",
       "\\item 'Mission\\_GCC'\n",
       "\\item 'Mission\\_UMA'\n",
       "\\item 'Mission\\_COMESA'\n",
       "\\item 'Mission\\_CENSAD'\n",
       "\\item 'Mission\\_EAC'\n",
       "\\item 'Mission\\_ECCAS'\n",
       "\\item 'Mission\\_ECOWAS'\n",
       "\\item 'Mission\\_IGAD'\n",
       "\\item 'Mission\\_SADC'\n",
       "\\item 'Experts\\_on\\_Mission'\n",
       "\\item 'Formed\\_Police\\_Units'\n",
       "\\item 'Individual\\_Police'\n",
       "\\item 'Civilian\\_Police'\n",
       "\\item 'Troops'\n",
       "\\item 'Observers'\n",
       "\\item 'Total'\n",
       "\\item 'Year'\n",
       "\\item 'DefSpend'\n",
       "\\end{enumerate*}\n"
      ],
      "text/markdown": [
       "1. ''\n",
       "2. 'Contributor_NAM'\n",
       "3. 'Contributor_G77'\n",
       "4. 'Contributor_AU'\n",
       "5. 'Contributor_Arab_League'\n",
       "6. 'Contributor_OIC'\n",
       "7. 'Contributor_CIS'\n",
       "8. 'Contributor_G20'\n",
       "9. 'Contributor_EU'\n",
       "10. 'Contributor_NATO'\n",
       "11. 'Contributor_G8'\n",
       "12. 'Contributor_OECD'\n",
       "13. 'Contributor_ASEAN'\n",
       "14. 'Contributor_OAS'\n",
       "15. 'Contributor_Shanghai'\n",
       "16. 'Contributor_GCC'\n",
       "17. 'Contributor_UMA'\n",
       "18. 'Contributor_COMESA'\n",
       "19. 'Contributor_CENSAD'\n",
       "20. 'Contributor_EAC'\n",
       "21. 'Contributor_ECCAS'\n",
       "22. 'Contributor_ECOWAS'\n",
       "23. 'Contributor_IGAD'\n",
       "24. 'Contributor_SADC'\n",
       "25. 'Mission_NAM'\n",
       "26. 'Mission_G77'\n",
       "27. 'Mission_AU'\n",
       "28. 'Mission_Arab_League'\n",
       "29. 'Mission_OIC'\n",
       "30. 'Mission_CIS'\n",
       "31. 'Mission_G20'\n",
       "32. 'Mission_EU'\n",
       "33. 'Mission_NATO'\n",
       "34. 'Mission_G8'\n",
       "35. 'Mission_OECD'\n",
       "36. 'Mission_ASEAN'\n",
       "37. 'Mission_OAS'\n",
       "38. 'Mission_Shanghai'\n",
       "39. 'Mission_GCC'\n",
       "40. 'Mission_UMA'\n",
       "41. 'Mission_COMESA'\n",
       "42. 'Mission_CENSAD'\n",
       "43. 'Mission_EAC'\n",
       "44. 'Mission_ECCAS'\n",
       "45. 'Mission_ECOWAS'\n",
       "46. 'Mission_IGAD'\n",
       "47. 'Mission_SADC'\n",
       "48. 'Experts_on_Mission'\n",
       "49. 'Formed_Police_Units'\n",
       "50. 'Individual_Police'\n",
       "51. 'Civilian_Police'\n",
       "52. 'Troops'\n",
       "53. 'Observers'\n",
       "54. 'Total'\n",
       "55. 'Year'\n",
       "56. 'DefSpend'\n",
       "\n",
       "\n"
      ],
      "text/plain": [
       " [1] \"\"                        \"Contributor_NAM\"        \n",
       " [3] \"Contributor_G77\"         \"Contributor_AU\"         \n",
       " [5] \"Contributor_Arab_League\" \"Contributor_OIC\"        \n",
       " [7] \"Contributor_CIS\"         \"Contributor_G20\"        \n",
       " [9] \"Contributor_EU\"          \"Contributor_NATO\"       \n",
       "[11] \"Contributor_G8\"          \"Contributor_OECD\"       \n",
       "[13] \"Contributor_ASEAN\"       \"Contributor_OAS\"        \n",
       "[15] \"Contributor_Shanghai\"    \"Contributor_GCC\"        \n",
       "[17] \"Contributor_UMA\"         \"Contributor_COMESA\"     \n",
       "[19] \"Contributor_CENSAD\"      \"Contributor_EAC\"        \n",
       "[21] \"Contributor_ECCAS\"       \"Contributor_ECOWAS\"     \n",
       "[23] \"Contributor_IGAD\"        \"Contributor_SADC\"       \n",
       "[25] \"Mission_NAM\"             \"Mission_G77\"            \n",
       "[27] \"Mission_AU\"              \"Mission_Arab_League\"    \n",
       "[29] \"Mission_OIC\"             \"Mission_CIS\"            \n",
       "[31] \"Mission_G20\"             \"Mission_EU\"             \n",
       "[33] \"Mission_NATO\"            \"Mission_G8\"             \n",
       "[35] \"Mission_OECD\"            \"Mission_ASEAN\"          \n",
       "[37] \"Mission_OAS\"             \"Mission_Shanghai\"       \n",
       "[39] \"Mission_GCC\"             \"Mission_UMA\"            \n",
       "[41] \"Mission_COMESA\"          \"Mission_CENSAD\"         \n",
       "[43] \"Mission_EAC\"             \"Mission_ECCAS\"          \n",
       "[45] \"Mission_ECOWAS\"          \"Mission_IGAD\"           \n",
       "[47] \"Mission_SADC\"            \"Experts_on_Mission\"     \n",
       "[49] \"Formed_Police_Units\"     \"Individual_Police\"      \n",
       "[51] \"Civilian_Police\"         \"Troops\"                 \n",
       "[53] \"Observers\"               \"Total\"                  \n",
       "[55] \"Year\"                    \"DefSpend\"               "
      ]
     },
     "metadata": {},
     "output_type": "display_data"
    }
   ],
   "source": [
    "# Replace NAs with zero\n",
    "contrib[is.na(contrib)] = 0\n",
    "# Drop geo columns and factors\n",
    "nonnum <- names(Filter(is.factor, contrib))\n",
    "xcluded <- c(nonnum, 'Mission_HQ_Longitude',\"Mission_HQ_Latitude\",\"Contributor_Capital_Latitude\",\"Contributor_Capital_Longitude\")\n",
    "clustdata <- contrib[, -which(names(contrib) %in% xcluded)]\n",
    "names(clustdata)\n"
   ]
  },
  {
   "cell_type": "code",
   "execution_count": 7,
   "metadata": {},
   "outputs": [
    {
     "name": "stdout",
     "output_type": "stream",
     "text": [
      "'data.frame':\t151845 obs. of  56 variables:\n",
      " $                        : int  0 1 2 3 4 5 6 7 8 9 ...\n",
      " $ Contributor_NAM        : int  0 0 0 0 0 0 0 0 0 0 ...\n",
      " $ Contributor_G77        : int  1 1 1 0 0 0 0 0 0 0 ...\n",
      " $ Contributor_AU         : int  0 0 0 0 0 0 0 0 0 0 ...\n",
      " $ Contributor_Arab_League: int  0 0 0 0 0 0 0 0 0 0 ...\n",
      " $ Contributor_OIC        : int  0 0 0 0 0 0 0 0 0 0 ...\n",
      " $ Contributor_CIS        : int  0 0 0 0 0 0 0 0 0 0 ...\n",
      " $ Contributor_G20        : int  1 1 1 1 1 1 0 0 0 0 ...\n",
      " $ Contributor_EU         : int  0 0 0 0 0 0 1 1 1 1 ...\n",
      " $ Contributor_NATO       : int  0 0 0 0 0 0 0 0 0 0 ...\n",
      " $ Contributor_G8         : int  0 0 0 0 0 0 0 0 0 0 ...\n",
      " $ Contributor_OECD       : int  0 0 0 1 1 1 1 1 1 1 ...\n",
      " $ Contributor_ASEAN      : int  0 0 0 0 0 0 0 0 0 0 ...\n",
      " $ Contributor_OAS        : int  1 1 1 0 0 0 0 0 0 0 ...\n",
      " $ Contributor_Shanghai   : int  0 0 0 0 0 0 0 0 0 0 ...\n",
      " $ Contributor_GCC        : int  0 0 0 0 0 0 0 0 0 0 ...\n",
      " $ Contributor_UMA        : int  0 0 0 0 0 0 0 0 0 0 ...\n",
      " $ Contributor_COMESA     : int  0 0 0 0 0 0 0 0 0 0 ...\n",
      " $ Contributor_CENSAD     : int  0 0 0 0 0 0 0 0 0 0 ...\n",
      " $ Contributor_EAC        : int  0 0 0 0 0 0 0 0 0 0 ...\n",
      " $ Contributor_ECCAS      : int  0 0 0 0 0 0 0 0 0 0 ...\n",
      " $ Contributor_ECOWAS     : int  0 0 0 0 0 0 0 0 0 0 ...\n",
      " $ Contributor_IGAD       : int  0 0 0 0 0 0 0 0 0 0 ...\n",
      " $ Contributor_SADC       : int  0 0 0 0 0 0 0 0 0 0 ...\n",
      " $ Mission_NAM            : int  1 1 0 0 1 0 1 0 1 0 ...\n",
      " $ Mission_G77            : int  1 1 0 0 1 0 1 0 1 0 ...\n",
      " $ Mission_AU             : int  0 1 0 0 0 0 0 0 0 0 ...\n",
      " $ Mission_Arab_League    : int  0 0 0 0 0 0 1 0 0 0 ...\n",
      " $ Mission_OIC            : int  0 0 0 0 1 0 1 0 1 0 ...\n",
      " $ Mission_CIS            : int  0 0 0 0 0 0 0 0 0 0 ...\n",
      " $ Mission_G20            : int  0 0 0 0 0 0 0 0 0 0 ...\n",
      " $ Mission_EU             : int  0 0 0 1 0 0 0 1 0 0 ...\n",
      " $ Mission_NATO           : int  0 0 0 0 0 0 0 0 0 0 ...\n",
      " $ Mission_G8             : int  0 0 0 0 0 0 0 0 0 0 ...\n",
      " $ Mission_OECD           : int  0 0 1 0 0 1 0 0 0 1 ...\n",
      " $ Mission_ASEAN          : int  0 0 0 0 0 0 0 0 0 0 ...\n",
      " $ Mission_OAS            : int  1 0 0 0 0 0 0 0 0 0 ...\n",
      " $ Mission_Shanghai       : int  0 0 0 0 0 0 0 0 0 0 ...\n",
      " $ Mission_GCC            : int  0 0 0 0 0 0 0 0 0 0 ...\n",
      " $ Mission_UMA            : int  0 0 0 0 0 0 0 0 0 0 ...\n",
      " $ Mission_COMESA         : int  0 0 0 0 0 0 0 0 0 0 ...\n",
      " $ Mission_CENSAD         : int  0 0 0 0 0 0 0 0 0 0 ...\n",
      " $ Mission_EAC            : int  0 0 0 0 0 0 0 0 0 0 ...\n",
      " $ Mission_ECCAS          : int  0 1 0 0 0 0 0 0 0 0 ...\n",
      " $ Mission_ECOWAS         : int  0 0 0 0 0 0 0 0 0 0 ...\n",
      " $ Mission_IGAD           : int  0 0 0 0 0 0 0 0 0 0 ...\n",
      " $ Mission_SADC           : int  0 1 0 0 0 0 0 0 0 0 ...\n",
      " $ Experts_on_Mission     : num  0 0 0 0 0 0 0 0 0 0 ...\n",
      " $ Formed_Police_Units    : num  0 0 0 0 0 0 0 0 0 0 ...\n",
      " $ Individual_Police      : num  0 0 0 0 0 0 0 0 0 0 ...\n",
      " $ Civilian_Police        : num  0 0 0 26 0 0 0 0 0 0 ...\n",
      " $ Troops                 : num  29 6 4 0 2 13 532 410 11 14 ...\n",
      " $ Observers              : num  0 0 0 0 0 0 0 0 0 0 ...\n",
      " $ Total                  : num  29 6 4 26 2 13 532 410 11 14 ...\n",
      " $ Year                   : int  1990 1990 1990 1990 1990 1990 1990 1990 1990 1990 ...\n",
      " $ DefSpend               : num  1.45 1.45 1.45 2.08 2.08 ...\n"
     ]
    }
   ],
   "source": [
    "str(clustdata)"
   ]
  },
  {
   "cell_type": "code",
   "execution_count": 8,
   "metadata": {
    "scrolled": true
   },
   "outputs": [
    {
     "data": {
      "text/html": [
       "<table>\n",
       "<thead><tr><th scope=col></th><th scope=col>Contributor_NAM</th><th scope=col>Contributor_G77</th><th scope=col>Contributor_AU</th><th scope=col>Contributor_Arab_League</th><th scope=col>Contributor_OIC</th><th scope=col>Contributor_CIS</th><th scope=col>Contributor_G20</th><th scope=col>Contributor_EU</th><th scope=col>Contributor_NATO</th><th scope=col>⋯</th><th scope=col>Contributor_IGAD</th><th scope=col>Contributor_SADC</th><th scope=col>Formed_Police_Units</th><th scope=col>Individual_Police</th><th scope=col>Civilian_Police</th><th scope=col>Troops</th><th scope=col>Observers</th><th scope=col>Total</th><th scope=col>Year</th><th scope=col>DefSpend</th></tr></thead>\n",
       "<tbody>\n",
       "\t<tr><td>0       </td><td>0       </td><td>1       </td><td>0       </td><td>0       </td><td>0       </td><td>0       </td><td>1       </td><td>0       </td><td>0       </td><td><U+22EF></td><td>0       </td><td>0       </td><td>0       </td><td>0       </td><td> 0      </td><td>29      </td><td>0       </td><td>29      </td><td>1990    </td><td>1.450909</td></tr>\n",
       "\t<tr><td>1       </td><td>0       </td><td>1       </td><td>0       </td><td>0       </td><td>0       </td><td>0       </td><td>1       </td><td>0       </td><td>0       </td><td><U+22EF></td><td>0       </td><td>0       </td><td>0       </td><td>0       </td><td> 0      </td><td> 6      </td><td>0       </td><td> 6      </td><td>1990    </td><td>1.450909</td></tr>\n",
       "\t<tr><td>2       </td><td>0       </td><td>1       </td><td>0       </td><td>0       </td><td>0       </td><td>0       </td><td>1       </td><td>0       </td><td>0       </td><td><U+22EF></td><td>0       </td><td>0       </td><td>0       </td><td>0       </td><td> 0      </td><td> 4      </td><td>0       </td><td> 4      </td><td>1990    </td><td>1.450909</td></tr>\n",
       "\t<tr><td>3       </td><td>0       </td><td>0       </td><td>0       </td><td>0       </td><td>0       </td><td>0       </td><td>1       </td><td>0       </td><td>0       </td><td><U+22EF></td><td>0       </td><td>0       </td><td>0       </td><td>0       </td><td>26      </td><td> 0      </td><td>0       </td><td>26      </td><td>1990    </td><td>2.075906</td></tr>\n",
       "\t<tr><td>4       </td><td>0       </td><td>0       </td><td>0       </td><td>0       </td><td>0       </td><td>0       </td><td>1       </td><td>0       </td><td>0       </td><td><U+22EF></td><td>0       </td><td>0       </td><td>0       </td><td>0       </td><td> 0      </td><td> 2      </td><td>0       </td><td> 2      </td><td>1990    </td><td>2.075906</td></tr>\n",
       "\t<tr><td>5       </td><td>0       </td><td>0       </td><td>0       </td><td>0       </td><td>0       </td><td>0       </td><td>1       </td><td>0       </td><td>0       </td><td><U+22EF></td><td>0       </td><td>0       </td><td>0       </td><td>0       </td><td> 0      </td><td>13      </td><td>0       </td><td>13      </td><td>1990    </td><td>2.075906</td></tr>\n",
       "</tbody>\n",
       "</table>\n"
      ],
      "text/latex": [
       "\\begin{tabular}{r|llllllllllllllllllllllllllllllll}\n",
       "  & Contributor\\_NAM & Contributor\\_G77 & Contributor\\_AU & Contributor\\_Arab\\_League & Contributor\\_OIC & Contributor\\_CIS & Contributor\\_G20 & Contributor\\_EU & Contributor\\_NATO & ⋯ & Contributor\\_IGAD & Contributor\\_SADC & Formed\\_Police\\_Units & Individual\\_Police & Civilian\\_Police & Troops & Observers & Total & Year & DefSpend\\\\\n",
       "\\hline\n",
       "\t 0        & 0        & 1        & 0        & 0        & 0        & 0        & 1        & 0        & 0        & <U+22EF> & 0        & 0        & 0        & 0        &  0       & 29       & 0        & 29       & 1990     & 1.450909\\\\\n",
       "\t 1        & 0        & 1        & 0        & 0        & 0        & 0        & 1        & 0        & 0        & <U+22EF> & 0        & 0        & 0        & 0        &  0       &  6       & 0        &  6       & 1990     & 1.450909\\\\\n",
       "\t 2        & 0        & 1        & 0        & 0        & 0        & 0        & 1        & 0        & 0        & <U+22EF> & 0        & 0        & 0        & 0        &  0       &  4       & 0        &  4       & 1990     & 1.450909\\\\\n",
       "\t 3        & 0        & 0        & 0        & 0        & 0        & 0        & 1        & 0        & 0        & <U+22EF> & 0        & 0        & 0        & 0        & 26       &  0       & 0        & 26       & 1990     & 2.075906\\\\\n",
       "\t 4        & 0        & 0        & 0        & 0        & 0        & 0        & 1        & 0        & 0        & <U+22EF> & 0        & 0        & 0        & 0        &  0       &  2       & 0        &  2       & 1990     & 2.075906\\\\\n",
       "\t 5        & 0        & 0        & 0        & 0        & 0        & 0        & 1        & 0        & 0        & <U+22EF> & 0        & 0        & 0        & 0        &  0       & 13       & 0        & 13       & 1990     & 2.075906\\\\\n",
       "\\end{tabular}\n"
      ],
      "text/markdown": [
       "\n",
       " | Contributor_NAM | Contributor_G77 | Contributor_AU | Contributor_Arab_League | Contributor_OIC | Contributor_CIS | Contributor_G20 | Contributor_EU | Contributor_NATO | ⋯ | Contributor_IGAD | Contributor_SADC | Formed_Police_Units | Individual_Police | Civilian_Police | Troops | Observers | Total | Year | DefSpend | \n",
       "|---|---|---|---|---|---|\n",
       "| 0        | 0        | 1        | 0        | 0        | 0        | 0        | 1        | 0        | 0        | <U+22EF> | 0        | 0        | 0        | 0        |  0       | 29       | 0        | 29       | 1990     | 1.450909 | \n",
       "| 1        | 0        | 1        | 0        | 0        | 0        | 0        | 1        | 0        | 0        | <U+22EF> | 0        | 0        | 0        | 0        |  0       |  6       | 0        |  6       | 1990     | 1.450909 | \n",
       "| 2        | 0        | 1        | 0        | 0        | 0        | 0        | 1        | 0        | 0        | <U+22EF> | 0        | 0        | 0        | 0        |  0       |  4       | 0        |  4       | 1990     | 1.450909 | \n",
       "| 3        | 0        | 0        | 0        | 0        | 0        | 0        | 1        | 0        | 0        | <U+22EF> | 0        | 0        | 0        | 0        | 26       |  0       | 0        | 26       | 1990     | 2.075906 | \n",
       "| 4        | 0        | 0        | 0        | 0        | 0        | 0        | 1        | 0        | 0        | <U+22EF> | 0        | 0        | 0        | 0        |  0       |  2       | 0        |  2       | 1990     | 2.075906 | \n",
       "| 5        | 0        | 0        | 0        | 0        | 0        | 0        | 1        | 0        | 0        | <U+22EF> | 0        | 0        | 0        | 0        |  0       | 13       | 0        | 13       | 1990     | 2.075906 | \n",
       "\n",
       "\n"
      ],
      "text/plain": [
       "    Contributor_NAM Contributor_G77 Contributor_AU Contributor_Arab_League\n",
       "1 0 0               1               0              0                      \n",
       "2 1 0               1               0              0                      \n",
       "3 2 0               1               0              0                      \n",
       "4 3 0               0               0              0                      \n",
       "5 4 0               0               0              0                      \n",
       "6 5 0               0               0              0                      \n",
       "  Contributor_OIC Contributor_CIS Contributor_G20 Contributor_EU\n",
       "1 0               0               1               0             \n",
       "2 0               0               1               0             \n",
       "3 0               0               1               0             \n",
       "4 0               0               1               0             \n",
       "5 0               0               1               0             \n",
       "6 0               0               1               0             \n",
       "  Contributor_NATO <U+22EF>   Contributor_IGAD Contributor_SADC\n",
       "1 0                <U+22EF> 0                0               \n",
       "2 0                <U+22EF> 0                0               \n",
       "3 0                <U+22EF> 0                0               \n",
       "4 0                <U+22EF> 0                0               \n",
       "5 0                <U+22EF> 0                0               \n",
       "6 0                <U+22EF> 0                0               \n",
       "  Formed_Police_Units Individual_Police Civilian_Police Troops Observers Total\n",
       "1 0                   0                  0              29     0         29   \n",
       "2 0                   0                  0               6     0          6   \n",
       "3 0                   0                  0               4     0          4   \n",
       "4 0                   0                 26               0     0         26   \n",
       "5 0                   0                  0               2     0          2   \n",
       "6 0                   0                  0              13     0         13   \n",
       "  Year DefSpend\n",
       "1 1990 1.450909\n",
       "2 1990 1.450909\n",
       "3 1990 1.450909\n",
       "4 1990 2.075906\n",
       "5 1990 2.075906\n",
       "6 1990 2.075906"
      ]
     },
     "metadata": {},
     "output_type": "display_data"
    }
   ],
   "source": [
    "# Just cluster on characteristics of contributor\n",
    "contrib_clustdata <- clustdata %>% dplyr::select(-contains(\"Mission\"))\n",
    "head(contrib_clustdata)"
   ]
  },
  {
   "cell_type": "code",
   "execution_count": 9,
   "metadata": {},
   "outputs": [
    {
     "name": "stdout",
     "output_type": "stream",
     "text": [
      "'data.frame':\t10000 obs. of  31 variables:\n",
      " $                        : int  38115 60430 17848 71654 95996 119322 24972 94686 940 145489 ...\n",
      " $ Contributor_NAM        : int  0 0 1 0 0 0 0 0 1 0 ...\n",
      " $ Contributor_G77        : int  0 0 1 0 0 0 0 1 1 0 ...\n",
      " $ Contributor_AU         : int  0 0 0 0 0 0 0 0 1 0 ...\n",
      " $ Contributor_Arab_League: int  0 0 0 0 0 0 0 0 0 0 ...\n",
      " $ Contributor_OIC        : int  0 0 1 0 0 0 0 0 0 0 ...\n",
      " $ Contributor_CIS        : int  1 0 0 0 0 0 0 0 0 0 ...\n",
      " $ Contributor_G20        : int  1 0 0 0 1 0 0 0 0 0 ...\n",
      " $ Contributor_EU         : int  0 1 0 0 0 1 1 0 0 1 ...\n",
      " $ Contributor_NATO       : int  0 1 0 0 1 1 1 0 0 0 ...\n",
      " $ Contributor_G8         : int  1 0 0 0 1 0 0 0 0 0 ...\n",
      " $ Contributor_OECD       : int  0 0 0 1 1 1 1 0 0 1 ...\n",
      " $ Contributor_ASEAN      : int  0 0 0 0 0 0 0 0 0 0 ...\n",
      " $ Contributor_OAS        : int  0 0 0 0 0 0 0 0 0 0 ...\n",
      " $ Contributor_Shanghai   : int  1 0 0 0 0 0 0 0 0 0 ...\n",
      " $ Contributor_GCC        : int  0 0 0 0 0 0 0 0 0 0 ...\n",
      " $ Contributor_UMA        : int  0 0 0 0 0 0 0 0 0 0 ...\n",
      " $ Contributor_COMESA     : int  0 0 0 0 0 0 0 0 1 0 ...\n",
      " $ Contributor_CENSAD     : int  0 0 0 0 0 0 0 0 1 0 ...\n",
      " $ Contributor_EAC        : int  0 0 0 0 0 0 0 0 1 0 ...\n",
      " $ Contributor_ECCAS      : int  0 0 0 0 0 0 0 0 0 0 ...\n",
      " $ Contributor_ECOWAS     : int  0 0 0 0 0 0 0 0 0 0 ...\n",
      " $ Contributor_IGAD       : int  0 0 0 0 0 0 0 0 1 0 ...\n",
      " $ Contributor_SADC       : int  0 0 0 0 0 0 0 0 0 0 ...\n",
      " $ Formed_Police_Units    : num  0 0 0 0 0 0 0 0 0 0 ...\n",
      " $ Individual_Police      : num  0 0 0 0 0 0 0 0 0 5 ...\n",
      " $ Civilian_Police        : num  0 0 20 3 0 0 0 0 0 5 ...\n",
      " $ Troops                 : num  0 0 214 0 2 1 0 14 8 0 ...\n",
      " $ Observers              : num  1 1 10 4 0 0 1 0 0 0 ...\n",
      " $ Total                  : num  1 1 244 7 2 1 1 14 8 5 ...\n",
      " $ DefSpend               : num  3.546 1.926 1.539 0.734 4.923 ...\n"
     ]
    }
   ],
   "source": [
    "contrib_sample <- sample_n(contrib_clustdata,10000)\n",
    "contrib_sample <- contrib_sample[,-31] # Drop the Year \n",
    "str(contrib_sample)"
   ]
  },
  {
   "cell_type": "code",
   "execution_count": 10,
   "metadata": {},
   "outputs": [
    {
     "data": {
      "image/png": "[encoded data removed]",
      "text/plain": [
       "Plot with title \"Cluster Dendrogram\""
      ]
     },
     "metadata": {},
     "output_type": "display_data"
    }
   ],
   "source": [
    "set.seed(100)\n",
    "clust <- hclust(dist(contrib_sample[,-1]), method=\"average\")\n",
    "plot(clust)"
   ]
  },
  {
   "cell_type": "code",
   "execution_count": 11,
   "metadata": {},
   "outputs": [
    {
     "data": {
      "text/html": [
       "9879"
      ],
      "text/latex": [
       "9879"
      ],
      "text/markdown": [
       "9879"
      ],
      "text/plain": [
       "[1] 9879"
      ]
     },
     "metadata": {},
     "output_type": "display_data"
    },
    {
     "data": {
      "text/html": [
       "56"
      ],
      "text/latex": [
       "56"
      ],
      "text/markdown": [
       "56"
      ],
      "text/plain": [
       "[1] 56"
      ]
     },
     "metadata": {},
     "output_type": "display_data"
    },
    {
     "data": {
      "text/html": [
       "61"
      ],
      "text/latex": [
       "61"
      ],
      "text/markdown": [
       "61"
      ],
      "text/plain": [
       "[1] 61"
      ]
     },
     "metadata": {},
     "output_type": "display_data"
    },
    {
     "data": {
      "text/html": [
       "2"
      ],
      "text/latex": [
       "2"
      ],
      "text/markdown": [
       "2"
      ],
      "text/plain": [
       "[1] 2"
      ]
     },
     "metadata": {},
     "output_type": "display_data"
    },
    {
     "data": {
      "text/html": [
       "1"
      ],
      "text/latex": [
       "1"
      ],
      "text/markdown": [
       "1"
      ],
      "text/plain": [
       "[1] 1"
      ]
     },
     "metadata": {},
     "output_type": "display_data"
    },
    {
     "data": {
      "text/html": [
       "1"
      ],
      "text/latex": [
       "1"
      ],
      "text/markdown": [
       "1"
      ],
      "text/plain": [
       "[1] 1"
      ]
     },
     "metadata": {},
     "output_type": "display_data"
    }
   ],
   "source": [
    "contrib_sample$cluster <- as.factor(cutree(clust, 6))\n",
    "sum(contrib_sample$cluster==1)\n",
    "sum(contrib_sample$cluster==2)\n",
    "sum(contrib_sample$cluster==3)\n",
    "sum(contrib_sample$cluster==4)\n",
    "sum(contrib_sample$cluster==5)\n",
    "sum(contrib_sample$cluster==6)"
   ]
  },
  {
   "cell_type": "code",
   "execution_count": 12,
   "metadata": {},
   "outputs": [
    {
     "data": {},
     "metadata": {},
     "output_type": "display_data"
    },
    {
     "data": {
      "image/png": "[encoded data removed]",
      "text/plain": [
       "plot without title"
      ]
     },
     "metadata": {},
     "output_type": "display_data"
    }
   ],
   "source": [
    "ggplot(contrib_sample, aes(x=cluster, y=Troops)) +geom_boxplot()"
   ]
  },
  {
   "cell_type": "code",
   "execution_count": 13,
   "metadata": {},
   "outputs": [],
   "source": [
    "# Splitting into train/test to see if an LDA model can predict the clusters \n",
    "library(caTools)\n",
    "set.seed(100) # set.seed() will help us to reproduce the results.\n",
    "split = sample.split(contrib_sample$cluster, SplitRatio=0.7)\n",
    "\n",
    "sample_train  = subset(contrib_sample, split==TRUE)\n",
    "\n",
    "# Test data will have the rest 30% of data\n",
    "sample_test  = subset(contrib_sample, split==FALSE)"
   ]
  },
  {
   "cell_type": "code",
   "execution_count": 14,
   "metadata": {},
   "outputs": [
    {
     "name": "stderr",
     "output_type": "stream",
     "text": [
      "\n",
      "Attaching package: 'MASS'\n",
      "\n",
      "The following object is masked from 'package:dplyr':\n",
      "\n",
      "    select\n",
      "\n",
      "Warning message in lda.default(x, grouping, ...):\n",
      "\"variables are collinear\""
     ]
    },
    {
     "data": {
      "image/png": "[encoded data removed]",
      "text/plain": [
       "plot without title"
      ]
     },
     "metadata": {},
     "output_type": "display_data"
    }
   ],
   "source": [
    "library(MASS)\n",
    "ldafit=lda(cluster~ .,data=sample_train[,-1]) #All variable except the contributor name\n",
    "plot(ldafit)"
   ]
  },
  {
   "cell_type": "code",
   "execution_count": 15,
   "metadata": {},
   "outputs": [
    {
     "data": {
      "text/plain": [
       "        Length Class  Mode     \n",
       "prior     6    -none- numeric  \n",
       "counts    6    -none- numeric  \n",
       "means   180    -none- numeric  \n",
       "scaling 150    -none- numeric  \n",
       "lev       6    -none- character\n",
       "svd       5    -none- numeric  \n",
       "N         1    -none- numeric  \n",
       "call      3    -none- call     \n",
       "terms     3    terms  call     \n",
       "xlevels   0    -none- list     "
      ]
     },
     "metadata": {},
     "output_type": "display_data"
    }
   ],
   "source": [
    "summary(ldafit)"
   ]
  },
  {
   "cell_type": "code",
   "execution_count": 16,
   "metadata": {},
   "outputs": [],
   "source": [
    "pred <- predict(ldafit, sample_test)"
   ]
  },
  {
   "cell_type": "code",
   "execution_count": 17,
   "metadata": {},
   "outputs": [
    {
     "data": {
      "text/plain": [
       "   \n",
       "       1    2    3    4    5    6\n",
       "  1 2950    0    0    0    0    0\n",
       "  2    0   11    0    0    0    0\n",
       "  3   14    6   18    0    0    0\n",
       "  4    0    0    0    1    0    0\n",
       "  5    0    0    0    0    0    0\n",
       "  6    0    0    0    0    0    0"
      ]
     },
     "metadata": {},
     "output_type": "display_data"
    },
    {
     "data": {
      "text/html": [
       "0.993333333333333"
      ],
      "text/latex": [
       "0.993333333333333"
      ],
      "text/markdown": [
       "0.993333333333333"
      ],
      "text/plain": [
       "[1] 0.9933333"
      ]
     },
     "metadata": {},
     "output_type": "display_data"
    }
   ],
   "source": [
    "# Create a confusion table.\n",
    "table(pred$class, sample_test$cluster)\n",
    "mean(pred$class==sample_test$cluster)\n"
   ]
  },
  {
   "cell_type": "code",
   "execution_count": 18,
   "metadata": {},
   "outputs": [],
   "source": [
    "# re-do clustering and LDA with just nonzero contributions\n",
    "contrib_clustdata2 <- subset(contrib_clustdata, contrib_clustdata$Troops>0)\n",
    "contrib_sample2 <- sample_n(contrib_clustdata2,10000)\n",
    "contrib_sample2 <- contrib_sample2[,-31] # Drop the Year "
   ]
  },
  {
   "cell_type": "code",
   "execution_count": 19,
   "metadata": {},
   "outputs": [],
   "source": [
    "set.seed(100)\n",
    "clust2 <- hclust(dist(contrib_sample2[,-1]), method=\"average\")\n",
    "#plot(clust2)"
   ]
  },
  {
   "cell_type": "code",
   "execution_count": 29,
   "metadata": {},
   "outputs": [
    {
     "data": {
      "text/html": [
       "338"
      ],
      "text/latex": [
       "338"
      ],
      "text/markdown": [
       "338"
      ],
      "text/plain": [
       "[1] 338"
      ]
     },
     "metadata": {},
     "output_type": "display_data"
    },
    {
     "data": {
      "text/html": [
       "9656"
      ],
      "text/latex": [
       "9656"
      ],
      "text/markdown": [
       "9656"
      ],
      "text/plain": [
       "[1] 9656"
      ]
     },
     "metadata": {},
     "output_type": "display_data"
    },
    {
     "data": {
      "text/html": [
       "5"
      ],
      "text/latex": [
       "5"
      ],
      "text/markdown": [
       "5"
      ],
      "text/plain": [
       "[1] 5"
      ]
     },
     "metadata": {},
     "output_type": "display_data"
    },
    {
     "data": {
      "text/html": [
       "1"
      ],
      "text/latex": [
       "1"
      ],
      "text/markdown": [
       "1"
      ],
      "text/plain": [
       "[1] 1"
      ]
     },
     "metadata": {},
     "output_type": "display_data"
    },
    {
     "data": {
      "text/html": [
       "0"
      ],
      "text/latex": [
       "0"
      ],
      "text/markdown": [
       "0"
      ],
      "text/plain": [
       "[1] 0"
      ]
     },
     "metadata": {},
     "output_type": "display_data"
    },
    {
     "data": {
      "text/html": [
       "0"
      ],
      "text/latex": [
       "0"
      ],
      "text/markdown": [
       "0"
      ],
      "text/plain": [
       "[1] 0"
      ]
     },
     "metadata": {},
     "output_type": "display_data"
    }
   ],
   "source": [
    "contrib_sample2$cluster <- as.factor(cutree(clust2, 4))\n",
    "sum(contrib_sample2$cluster==1)\n",
    "sum(contrib_sample2$cluster==2)\n",
    "sum(contrib_sample2$cluster==3)\n",
    "sum(contrib_sample2$cluster==4)\n",
    "sum(contrib_sample2$cluster==5)\n",
    "sum(contrib_sample2$cluster==6)"
   ]
  },
  {
   "cell_type": "code",
   "execution_count": 30,
   "metadata": {},
   "outputs": [
    {
     "data": {},
     "metadata": {},
     "output_type": "display_data"
    },
    {
     "data": {
      "image/png": "[encoded data removed]",
      "text/plain": [
       "plot without title"
      ]
     },
     "metadata": {},
     "output_type": "display_data"
    }
   ],
   "source": [
    "ggplot(contrib_sample2, aes(x=cluster, y=Troops)) +geom_boxplot()"
   ]
  },
  {
   "cell_type": "code",
   "execution_count": 35,
   "metadata": {},
   "outputs": [],
   "source": [
    "# Splitting into train/test to see if an LDA model can predict the clusters \n",
    "library(caTools)\n",
    "set.seed(100) # set.seed() will help us to reproduce the results.\n",
    "split = sample.split(contrib_sample2$cluster, SplitRatio=0.7)\n",
    "\n",
    "sample_train2  = subset(contrib_sample2, split==TRUE)\n",
    "\n",
    "# Test data will have the rest 30% of data\n",
    "sample_test2  = subset(contrib_sample2, split==FALSE)"
   ]
  },
  {
   "cell_type": "code",
   "execution_count": 36,
   "metadata": {},
   "outputs": [
    {
     "name": "stderr",
     "output_type": "stream",
     "text": [
      "Warning message in lda.default(x, grouping, ...):\n",
      "\"variables are collinear\""
     ]
    },
    {
     "data": {
      "image/png": "[encoded data removed]",
      "text/plain": [
       "plot without title"
      ]
     },
     "metadata": {},
     "output_type": "display_data"
    }
   ],
   "source": [
    "library(MASS)\n",
    "ldafit2=lda(cluster~ .,data=sample_train2[,-1]) #All variable except the contributor name\n",
    "plot(ldafit2)"
   ]
  },
  {
   "cell_type": "code",
   "execution_count": 37,
   "metadata": {},
   "outputs": [],
   "source": [
    "pred2 <- predict(ldafit2, sample_test2)"
   ]
  },
  {
   "cell_type": "code",
   "execution_count": 38,
   "metadata": {},
   "outputs": [
    {
     "data": {
      "text/plain": [
       "   \n",
       "       1    2    3    4\n",
       "  1   98    5    0    0\n",
       "  2    1 2892    0    0\n",
       "  3    2    0    1    0\n",
       "  4    0    0    0    0"
      ]
     },
     "metadata": {},
     "output_type": "display_data"
    },
    {
     "data": {
      "text/html": [
       "0.997332444148049"
      ],
      "text/latex": [
       "0.997332444148049"
      ],
      "text/markdown": [
       "0.997332444148049"
      ],
      "text/plain": [
       "[1] 0.9973324"
      ]
     },
     "metadata": {},
     "output_type": "display_data"
    }
   ],
   "source": [
    "# Create a confusion table.\n",
    "table(pred2$class, sample_test2$cluster)\n",
    "mean(pred2$class==sample_test2$cluster)"
   ]
  },
  {
   "cell_type": "code",
   "execution_count": 23,
   "metadata": {},
   "outputs": [
    {
     "data": {
      "text/plain": [
       "Standard deviations (1, .., p=55):\n",
       " [1] 6.037172e+02 7.026299e+01 2.299423e+01 1.427343e+01 8.506037e+00\n",
       " [6] 7.091664e+00 3.267851e+00 1.111621e+00 1.027283e+00 7.604409e-01\n",
       "[11] 5.814194e-01 5.509852e-01 5.381532e-01 5.177710e-01 4.596804e-01\n",
       "[16] 3.913300e-01 3.329230e-01 3.303666e-01 3.007052e-01 2.890133e-01\n",
       "[21] 2.650090e-01 2.468197e-01 2.364164e-01 2.245422e-01 2.113398e-01\n",
       "[26] 2.028495e-01 1.968908e-01 1.902142e-01 1.782125e-01 1.732781e-01\n",
       "[31] 1.685048e-01 1.632204e-01 1.568905e-01 1.532274e-01 1.517211e-01\n",
       "[36] 1.459524e-01 1.371805e-01 1.339902e-01 1.068104e-01 1.034368e-01\n",
       "[41] 9.697716e-02 9.044203e-02 8.211257e-02 7.996929e-02 7.381048e-02\n",
       "[46] 7.218852e-02 5.769721e-02 5.566791e-02 3.152380e-02 5.127427e-03\n",
       "[51] 2.681043e-13 5.921308e-14 5.921308e-14 5.921308e-14 5.921308e-14\n",
       "\n",
       "Rotation (n x k) = (55 x 55):\n",
       "                                  PC1           PC2           PC3           PC4\n",
       "Contributor_NAM          1.317057e-04 -1.010313e-03 -4.298114e-04 -3.003008e-03\n",
       "Contributor_G77          1.224143e-04 -7.765161e-04 -1.338061e-04 -2.731070e-03\n",
       "Contributor_AU           3.896285e-05 -4.027633e-04 -6.782773e-04 -4.200682e-03\n",
       "Contributor_Arab_League  6.764821e-06 -4.079619e-04 -1.629292e-04 -3.862235e-04\n",
       "Contributor_OIC          7.031999e-05 -1.010295e-03 -3.039565e-04 -1.547496e-03\n",
       "Contributor_CIS         -1.334630e-05  6.156642e-05  7.270700e-05  9.840953e-05\n",
       "Contributor_G20          1.203582e-05  1.488824e-04 -4.437266e-04  1.941956e-03\n",
       "Contributor_EU          -6.036917e-05  5.272673e-04  3.006389e-04  2.223655e-03\n",
       "Contributor_NATO        -6.369941e-05  3.783009e-04 -3.697969e-04  2.069050e-03\n",
       "Contributor_G8          -1.451215e-05  1.029934e-04 -5.942548e-04  1.215484e-03\n",
       "Contributor_OECD        -8.564707e-05  6.236211e-04  1.172264e-04  2.373109e-03\n",
       "Contributor_ASEAN       -5.452368e-06  8.458689e-06 -1.642368e-04  8.250599e-05\n",
       "Contributor_OAS         -2.165251e-05  2.101351e-04  3.150498e-04  1.418997e-04\n",
       "Contributor_Shanghai    -1.046605e-05  6.990931e-05  5.229412e-05  1.807489e-04\n",
       "Contributor_GCC         -1.661717e-07  4.339200e-06  9.641178e-06  1.401438e-08\n",
       "Contributor_UMA          2.968191e-06  2.484466e-05  4.079687e-05 -1.331051e-04\n",
       "Contributor_COMESA       2.404397e-05 -4.727893e-05 -1.290137e-04 -1.443484e-03\n",
       "Contributor_CENSAD       1.744070e-05 -3.448302e-04 -4.279770e-04 -2.305530e-03\n",
       "Contributor_EAC          1.176850e-05 -4.151405e-05 -5.179486e-05 -9.103564e-04\n",
       "Contributor_ECCAS       -3.601804e-06 -4.594479e-05 -2.044248e-05 -5.256910e-04\n",
       "Contributor_ECOWAS       1.156264e-05 -3.626083e-04 -4.803556e-04 -1.923661e-03\n",
       "Contributor_IGAD         1.635426e-05  8.062621e-05 -2.556724e-05 -1.827862e-04\n",
       "Contributor_SADC        -2.444679e-08  5.596949e-05 -3.106679e-04 -1.057429e-03\n",
       "Mission_NAM              8.819979e-05 -1.407843e-04  1.291118e-03 -4.095937e-03\n",
       "Mission_G77              7.178561e-05 -2.343437e-04  6.718787e-04 -2.734853e-03\n",
       "Mission_AU               6.095778e-05  2.376472e-05  1.176937e-03 -4.916700e-03\n",
       "Mission_Arab_League      6.614478e-05  7.240227e-05  3.365252e-05 -3.958493e-03\n",
       "Mission_OIC              5.937107e-05  2.374217e-04  1.042022e-03 -4.099728e-03\n",
       "Mission_CIS             -2.246991e-06  1.283350e-05  3.130838e-05  4.499665e-05\n",
       "Mission_G20             -5.613795e-09  4.505099e-08  1.107962e-07  1.155779e-07\n",
       "Mission_EU              -5.824935e-06  9.591164e-05  1.514175e-04 -5.367992e-05\n",
       "Mission_NATO             1.839478e-05  1.252887e-04 -3.502640e-05  6.346985e-04\n",
       "Mission_G8              -5.613795e-09  4.505099e-08  1.107962e-07  1.155779e-07\n",
       "Mission_OECD            -2.376013e-05  1.285027e-04  3.149298e-04  2.675064e-04\n",
       "Mission_ASEAN            3.105803e-06 -3.902669e-05 -2.629594e-04  4.113984e-04\n",
       "Mission_OAS             -3.452371e-06 -3.941485e-04 -1.535102e-04 -7.628833e-04\n",
       "Mission_Shanghai        -2.246991e-06  1.283350e-05  3.130838e-05  4.499665e-05\n",
       "Mission_GCC              0.000000e+00  0.000000e+00  0.000000e+00  0.000000e+00\n",
       "Mission_UMA              0.000000e+00  0.000000e+00  0.000000e+00  0.000000e+00\n",
       "Mission_COMESA           6.731014e-05 -2.339271e-04 -8.201785e-05 -5.237394e-03\n",
       "Mission_CENSAD           5.663183e-05 -3.839870e-04  6.964519e-04 -4.932251e-03\n",
       "Mission_EAC             -3.209345e-06  5.874309e-05  9.936649e-05  1.378066e-04\n",
       "Mission_ECCAS            3.616963e-05  9.039567e-05  8.112513e-04  1.395249e-04\n",
       "Mission_ECOWAS           2.213096e-05 -9.582691e-06  8.390759e-04 -4.755573e-04\n",
       "Mission_IGAD             3.625925e-05 -3.099001e-04 -4.445264e-04 -5.381197e-03\n",
       "Mission_SADC             3.853739e-05  1.101738e-04  2.944984e-04  4.707300e-04\n",
       "Experts_on_Mission       2.438706e-03 -6.725578e-03  1.284495e-02 -5.632611e-02\n",
       "Formed_Police_Units      1.561077e-02 -4.266087e-01  8.928159e-01 -1.314350e-01\n",
       "Individual_Police        3.490955e-03 -9.897536e-02 -1.985287e-01 -9.644420e-01\n",
       "Civilian_Police          2.561144e-02 -7.326860e-01 -3.244460e-01  1.344302e-01\n",
       "Troops                   6.918623e-01  3.932671e-01  1.686687e-01 -7.468799e-02\n",
       "Observers                3.909161e-03 -1.991511e-03 -1.282061e-02  1.481763e-02\n",
       "Total                    7.213829e-01 -3.414104e-01 -1.685980e-01  7.455980e-02\n",
       "Year                     3.856509e-04 -1.022346e-02  3.132959e-02 -1.403643e-01\n",
       "DefSpend                 1.009151e-04 -1.238669e-03 -2.514826e-03  6.300697e-03\n",
       "                                  PC5           PC6           PC7           PC8\n",
       "Contributor_NAM         -8.639893e-04  8.958766e-03 -4.901587e-03  4.508402e-02\n",
       "Contributor_G77         -1.390818e-03  9.674849e-03 -5.099175e-03  5.934650e-02\n",
       "Contributor_AU          -1.575653e-03  5.526019e-03 -2.872553e-03  1.205910e-01\n",
       "Contributor_Arab_League -1.833047e-03  5.934732e-04  1.563076e-03 -7.273591e-02\n",
       "Contributor_OIC         -1.584491e-03  2.816829e-03 -5.414045e-03 -2.531936e-02\n",
       "Contributor_CIS         -1.147947e-03  9.387147e-04 -3.452263e-04 -3.177867e-02\n",
       "Contributor_G20         -2.624506e-04 -3.111706e-03  2.901197e-04 -8.735272e-02\n",
       "Contributor_EU           1.357630e-03 -9.241938e-03  4.511971e-03  1.422555e-02\n",
       "Contributor_NATO         2.150149e-03 -7.371986e-03  2.409854e-03 -5.439578e-02\n",
       "Contributor_G8          -8.348952e-04 -3.253216e-03  2.143863e-04 -6.997887e-02\n",
       "Contributor_OECD         1.946564e-03 -1.194484e-02  6.678263e-03 -2.108516e-02\n",
       "Contributor_ASEAN       -2.976031e-04  5.912440e-04 -6.707187e-04  6.628348e-03\n",
       "Contributor_OAS          8.889541e-04  1.442415e-03  1.342780e-03  1.779818e-02\n",
       "Contributor_Shanghai    -1.821871e-03  6.298022e-04 -5.512057e-04 -3.776159e-02\n",
       "Contributor_GCC          6.934648e-05  4.031836e-05 -5.647386e-05 -6.969816e-05\n",
       "Contributor_UMA         -2.624091e-04  4.079811e-05  3.391779e-04 -7.745097e-03\n",
       "Contributor_COMESA      -1.433662e-03  2.599088e-03  8.260666e-04  2.613903e-02\n",
       "Contributor_CENSAD      -1.333958e-03  2.154010e-03 -2.918925e-03  9.821982e-02\n",
       "Contributor_EAC         -4.101602e-05  9.084223e-04 -1.464153e-03  1.411936e-02\n",
       "Contributor_ECCAS        7.276382e-04  9.468816e-04 -1.454911e-03  6.438903e-04\n",
       "Contributor_ECOWAS       5.116805e-05  1.917754e-03 -3.473398e-03  1.023071e-01\n",
       "Contributor_IGAD        -6.632436e-04  9.709011e-04  1.374166e-03  1.177325e-02\n",
       "Contributor_SADC        -2.446876e-04  1.607487e-03 -8.262511e-04  1.295863e-02\n",
       "Mission_NAM              2.891676e-03  1.063930e-02 -1.396359e-02  1.575160e-02\n",
       "Mission_G77              3.657307e-03  4.483592e-03 -7.280498e-03  1.575687e-02\n",
       "Mission_AU              -8.500017e-03  1.761876e-02 -6.813871e-03  2.301032e-02\n",
       "Mission_Arab_League      2.391055e-03  1.030908e-03 -2.997113e-03  1.447412e-02\n",
       "Mission_OIC              4.573657e-03  4.811712e-03 -9.443658e-03  1.593693e-02\n",
       "Mission_CIS             -1.324329e-04 -7.709500e-04  4.149809e-04 -3.722832e-04\n",
       "Mission_G20              3.753573e-07 -2.574213e-06  2.701504e-06  4.839378e-07\n",
       "Mission_EU               1.786479e-03 -2.038520e-04 -2.479998e-04  7.026305e-04\n",
       "Mission_NATO            -1.382129e-03 -5.989032e-03  4.462892e-04 -1.115035e-03\n",
       "Mission_G8               3.753573e-07 -2.574213e-06  2.701504e-06  4.839378e-07\n",
       "Mission_OECD            -2.998936e-03 -5.062372e-04  2.771444e-03 -3.466963e-03\n",
       "Mission_ASEAN           -3.198538e-04 -1.323369e-03  5.857956e-04 -6.016391e-04\n",
       "Mission_OAS              3.864390e-03  6.353114e-04 -2.613522e-03 -2.457742e-03\n",
       "Mission_Shanghai        -1.324329e-04 -7.709500e-04  4.149809e-04 -3.722832e-04\n",
       "Mission_GCC              0.000000e+00  0.000000e+00  0.000000e+00  0.000000e+00\n",
       "Mission_UMA              0.000000e+00  0.000000e+00  0.000000e+00  0.000000e+00\n",
       "Mission_COMESA          -7.972521e-03  1.484422e-02 -1.410493e-04  2.535252e-02\n",
       "Mission_CENSAD           3.666795e-03  1.474785e-02 -1.463817e-02  2.004677e-02\n",
       "Mission_EAC             -5.236408e-04 -1.121549e-03 -1.135553e-03  3.278724e-03\n",
       "Mission_ECCAS           -6.702766e-03  5.185107e-03  4.942878e-03  6.969569e-03\n",
       "Mission_ECOWAS           3.979556e-03  7.683181e-03 -1.085284e-02  2.550710e-03\n",
       "Mission_IGAD            -1.392996e-04  9.127077e-03 -4.000452e-03  1.586184e-02\n",
       "Mission_SADC            -8.432280e-03  1.873708e-03  6.171412e-03  2.352845e-03\n",
       "Experts_on_Mission      -2.174602e-01  2.446343e-01  9.427616e-01  1.931393e-03\n",
       "Formed_Police_Units     -1.873103e-02 -5.311744e-02 -1.359554e-02 -1.334777e-03\n",
       "Individual_Police       -2.605845e-02 -1.384779e-01 -2.556516e-02 -3.646088e-03\n",
       "Civilian_Police          2.878614e-01 -1.557312e-02  7.761392e-02  1.319955e-03\n",
       "Troops                   2.740891e-01 -5.002605e-02  7.049797e-02 -1.670642e-03\n",
       "Observers               -8.293777e-01  1.139886e-01 -2.199363e-01  2.039290e-03\n",
       "Total                   -2.674272e-01  4.838940e-02 -7.182437e-02  1.688603e-03\n",
       "Year                     1.839473e-01  9.475484e-01 -2.116543e-01 -3.071731e-02\n",
       "DefSpend                -8.907912e-03 -2.386891e-02  5.323274e-03 -9.642754e-01\n",
       "                                  PC9          PC10          PC11          PC12\n",
       "Contributor_NAM          3.931817e-01  1.514303e-01  5.686110e-02 -2.379653e-02\n",
       "Contributor_G77          3.920184e-01  1.692981e-01  9.643632e-02 -1.393143e-01\n",
       "Contributor_AU           2.481783e-01  8.193508e-02 -5.615726e-02  1.628366e-01\n",
       "Contributor_Arab_League  7.644179e-02  3.922424e-02 -9.532100e-03  4.785751e-02\n",
       "Contributor_OIC          2.414903e-01  1.164669e-01 -3.436378e-02  1.893633e-01\n",
       "Contributor_CIS         -7.130932e-03 -8.000497e-03  4.429288e-04 -2.857889e-02\n",
       "Contributor_G20         -1.375849e-01 -6.496721e-02 -1.474340e-02 -7.672158e-02\n",
       "Contributor_EU          -2.832661e-01 -1.228548e-01 -7.288804e-02  1.615343e-01\n",
       "Contributor_NATO        -2.780496e-01 -1.392181e-01 -1.085311e-01  1.848732e-01\n",
       "Contributor_G8          -1.215095e-01 -7.268988e-02 -4.653677e-02  3.375168e-02\n",
       "Contributor_OECD        -3.435229e-01 -1.280408e-01 -7.174348e-02  1.408390e-01\n",
       "Contributor_ASEAN        2.983256e-02  8.553450e-03  3.541126e-02 -5.146737e-02\n",
       "Contributor_OAS          1.145432e-02  3.180984e-02  5.989174e-02 -1.029577e-01\n",
       "Contributor_Shanghai    -6.138023e-03 -4.523897e-03  3.897090e-03 -5.060717e-02\n",
       "Contributor_GCC          8.692818e-04 -1.506607e-04  2.585228e-03 -5.175527e-04\n",
       "Contributor_UMA          2.129557e-02  7.520144e-03 -1.396235e-02  2.526094e-02\n",
       "Contributor_COMESA       7.735802e-02  1.555938e-02 -2.152861e-03 -1.603220e-02\n",
       "Contributor_CENSAD       1.865202e-01  9.885789e-02 -3.819759e-02  2.214806e-01\n",
       "Contributor_EAC          3.069853e-02  2.023229e-04  1.237388e-03 -2.037720e-02\n",
       "Contributor_ECCAS        2.074669e-02  1.561801e-03 -2.729407e-03  1.881150e-02\n",
       "Contributor_ECOWAS       1.240215e-01  6.295138e-02 -2.571235e-02  1.702587e-01\n",
       "Contributor_IGAD         2.689370e-02  6.336237e-03  1.998863e-03 -5.528092e-03\n",
       "Contributor_SADC         4.185212e-02 -1.142297e-02 -2.047045e-02 -4.303883e-02\n",
       "Mission_NAM              1.855833e-01 -4.063228e-01  8.409619e-02  3.279443e-01\n",
       "Mission_G77              1.772571e-01 -3.879014e-01  1.011711e-01  3.349623e-01\n",
       "Mission_AU               1.921235e-01 -2.522053e-01 -4.854044e-01 -1.150539e-01\n",
       "Mission_Arab_League      3.717982e-02 -2.624055e-01  1.603324e-01 -2.631075e-01\n",
       "Mission_OIC              8.608144e-02 -4.220946e-01  3.494879e-01 -1.432546e-01\n",
       "Mission_CIS             -7.678957e-05  6.108663e-05  7.118526e-03 -1.359556e-03\n",
       "Mission_G20             -2.052894e-05  8.961986e-06 -8.735238e-06 -6.287923e-06\n",
       "Mission_EU              -3.373035e-02  4.473335e-02  3.031197e-03 -2.725112e-02\n",
       "Mission_NATO            -1.329150e-02  4.759593e-02  6.693431e-03 -3.130279e-02\n",
       "Mission_G8              -2.052894e-05  8.961986e-06 -8.735238e-06 -6.287923e-06\n",
       "Mission_OECD            -5.728113e-02  6.157072e-02  2.278158e-02 -3.617690e-02\n",
       "Mission_ASEAN            1.353215e-03 -1.262128e-03  4.228490e-03  5.929562e-03\n",
       "Mission_OAS              1.178088e-04  5.952542e-02  8.962258e-02  1.122441e-01\n",
       "Mission_Shanghai        -7.678957e-05  6.108663e-05  7.118526e-03 -1.359556e-03\n",
       "Mission_GCC              0.000000e+00  0.000000e+00  1.880791e-37  0.000000e+00\n",
       "Mission_UMA              0.000000e+00  0.000000e+00  2.057115e-38  0.000000e+00\n",
       "Mission_COMESA           9.606372e-02 -1.412410e-01 -5.233805e-01 -2.167274e-01\n",
       "Mission_CENSAD           1.637885e-01 -3.721442e-01  1.335562e-02 -1.214667e-01\n",
       "Mission_EAC              1.487777e-02  1.180829e-03 -4.676529e-02  1.874345e-02\n",
       "Mission_ECCAS            6.174430e-02  5.614428e-03 -3.313413e-01  2.882148e-01\n",
       "Mission_ECOWAS           8.488500e-02 -1.648932e-01  1.279043e-01  1.326238e-01\n",
       "Mission_IGAD             5.784305e-02 -1.627575e-01 -2.205526e-01 -4.239473e-01\n",
       "Mission_SADC             3.988657e-02 -4.347056e-03 -2.993179e-01  2.201540e-01\n",
       "Experts_on_Mission       9.744526e-03 -1.431538e-02  1.419194e-02  1.692037e-03\n",
       "Formed_Police_Units     -1.040777e-03  1.923648e-03 -1.306521e-04 -3.813988e-04\n",
       "Individual_Police       -6.926047e-03  4.942287e-03  9.791659e-04  2.543025e-03\n",
       "Civilian_Police          3.430717e-03 -2.122815e-03 -4.624571e-03 -7.269641e-04\n",
       "Troops                   4.150743e-03  5.723804e-04 -4.314072e-03 -3.728723e-04\n",
       "Observers               -1.197795e-02  1.151883e-03  1.314091e-02  1.487411e-03\n",
       "Total                   -4.396488e-03 -3.985516e-04  4.202264e-03  3.875747e-04\n",
       "Year                    -3.154010e-02  2.067623e-02  7.472631e-03  8.477767e-03\n",
       "DefSpend                 1.594745e-01  1.431080e-02 -1.202827e-02  2.438587e-02\n",
       "                                 PC13          PC14          PC15          PC16\n",
       "Contributor_NAM          3.408452e-02 -8.577523e-02  7.474361e-02 -9.657900e-02\n",
       "Contributor_G77          9.705149e-02  1.423228e-01 -2.665868e-02 -1.413331e-02\n",
       "Contributor_AU          -1.494022e-01 -3.096651e-01 -1.340604e-01 -4.346717e-01\n",
       "Contributor_Arab_League -3.578250e-02 -8.359803e-02  5.663488e-02  2.638436e-02\n",
       "Contributor_OIC         -1.001553e-01 -3.009619e-01 -1.381085e-01  5.022751e-01\n",
       "Contributor_CIS         -6.426236e-03  4.295137e-02 -1.035088e-01  1.561736e-02\n",
       "Contributor_G20          4.868712e-02  1.681436e-01 -7.399106e-01 -6.318373e-02\n",
       "Contributor_EU          -8.776319e-02 -2.237430e-01  2.928151e-01 -2.212957e-02\n",
       "Contributor_NATO        -9.957730e-02 -2.095449e-01 -2.378935e-02 -6.593315e-02\n",
       "Contributor_G8          -2.619599e-02 -1.805515e-02 -4.348799e-01 -1.532403e-01\n",
       "Contributor_OECD        -7.245728e-02 -1.948238e-01 -1.310661e-03 -1.918259e-02\n",
       "Contributor_ASEAN        5.444257e-02  4.223587e-02  4.922185e-03  1.366490e-01\n",
       "Contributor_OAS          7.834053e-02  2.058122e-01 -3.176130e-02  4.464227e-02\n",
       "Contributor_Shanghai     4.752816e-03  7.855975e-02 -1.597447e-01  1.548829e-02\n",
       "Contributor_GCC          2.441997e-03 -1.912392e-03  6.602712e-04  3.660602e-03\n",
       "Contributor_UMA         -5.799508e-03 -2.090048e-02  3.506656e-03  1.815295e-02\n",
       "Contributor_COMESA      -6.065086e-02 -4.155261e-02  6.158699e-02 -5.151329e-01\n",
       "Contributor_CENSAD      -1.385126e-01 -3.227915e-01 -1.961455e-01  3.245528e-03\n",
       "Contributor_EAC         -2.042267e-02 -1.624251e-02  2.448231e-02 -2.496825e-01\n",
       "Contributor_ECCAS       -1.099871e-03 -1.414908e-04  9.293727e-03 -4.220230e-02\n",
       "Contributor_ECOWAS      -9.075108e-02 -2.411872e-01 -1.994620e-01  1.650208e-01\n",
       "Contributor_IGAD        -3.135999e-02 -2.579416e-02  1.107907e-02 -1.864322e-01\n",
       "Contributor_SADC         2.367475e-03  1.818700e-02  3.926645e-02 -2.959343e-01\n",
       "Mission_NAM              2.468926e-01  1.246596e-01 -2.864421e-03 -2.384133e-02\n",
       "Mission_G77              2.548672e-01  1.219877e-01  4.715165e-03 -2.336641e-02\n",
       "Mission_AU              -3.266958e-01  1.690361e-01  1.447767e-02  7.566522e-02\n",
       "Mission_Arab_League      2.835655e-01 -3.314611e-01 -3.610433e-02  1.484971e-02\n",
       "Mission_OIC              4.203275e-02 -2.436621e-01 -1.043224e-02  4.110228e-02\n",
       "Mission_CIS              1.474958e-03 -4.257455e-03  5.891598e-03  4.493338e-03\n",
       "Mission_G20             -1.944869e-05 -1.310391e-05 -4.358813e-05 -1.896496e-05\n",
       "Mission_EU              -1.498058e-02 -5.355736e-05 -5.869671e-03 -7.747728e-04\n",
       "Mission_NATO            -3.029175e-02 -1.940833e-02  1.004505e-02  3.027810e-03\n",
       "Mission_G8              -1.944869e-05 -1.310391e-05 -4.358813e-05 -1.896496e-05\n",
       "Mission_OECD            -3.703919e-02 -2.125184e-02 -3.485895e-03 -1.133773e-02\n",
       "Mission_ASEAN            5.625048e-03  3.697883e-03 -1.101524e-03 -1.650839e-03\n",
       "Mission_OAS              1.195958e-01  5.466411e-02 -3.721552e-02 -3.169363e-02\n",
       "Mission_Shanghai         1.474958e-03 -4.257455e-03  5.891598e-03  4.493338e-03\n",
       "Mission_GCC              4.814825e-35  0.000000e+00 -3.081488e-33  1.262177e-29\n",
       "Mission_UMA              6.018531e-36 -1.504633e-36  0.000000e+00  3.944305e-31\n",
       "Mission_COMESA           2.421369e-01 -1.172476e-01  5.016259e-03  1.468690e-02\n",
       "Mission_CENSAD          -4.202985e-01  9.194260e-02  1.361581e-02  2.508828e-02\n",
       "Mission_EAC              2.340554e-02  3.378949e-03 -2.092649e-03 -4.688614e-04\n",
       "Mission_ECCAS            2.180333e-01  1.171154e-01  2.729618e-02 -1.534285e-02\n",
       "Mission_ECOWAS          -4.811576e-01  2.617163e-01  1.630830e-02  2.806193e-02\n",
       "Mission_IGAD             4.257725e-02 -2.114326e-01 -1.067465e-02  1.692787e-02\n",
       "Mission_SADC             1.979886e-01  1.094238e-01  2.664558e-02 -4.132618e-03\n",
       "Experts_on_Mission      -7.691980e-03 -1.698319e-04 -3.165348e-03  3.195119e-03\n",
       "Formed_Police_Units     -1.541387e-05 -2.861616e-04 -6.209630e-04 -5.632606e-04\n",
       "Individual_Police       -4.701285e-04  4.534322e-03  4.860908e-04  9.597199e-04\n",
       "Civilian_Police          5.534550e-06  8.081791e-04 -1.083994e-04 -2.983644e-05\n",
       "Troops                  -1.959896e-04  5.526234e-04 -6.092119e-04  1.441585e-04\n",
       "Observers                3.295785e-04 -1.907500e-03  1.345917e-03 -2.473395e-04\n",
       "Total                    1.391234e-04 -5.466971e-04  6.283059e-04 -1.330175e-04\n",
       "Year                     5.237955e-03 -8.122630e-03  1.806046e-03 -1.986894e-03\n",
       "DefSpend                -2.231463e-02 -8.462257e-02  5.958948e-02 -5.657766e-02\n",
       "                                 PC17          PC18          PC19          PC20\n",
       "Contributor_NAM          7.397982e-02 -4.533511e-01  9.714924e-02  4.097647e-02\n",
       "Contributor_G77          4.306348e-02 -2.660542e-01  2.741194e-01  6.253625e-02\n",
       "Contributor_AU          -2.999771e-02  1.275351e-01  1.367136e-02  4.707750e-02\n",
       "Contributor_Arab_League  3.625151e-02 -1.114384e-01 -2.507704e-01  4.146888e-02\n",
       "Contributor_OIC          1.584048e-02 -2.426418e-01 -4.327764e-01 -1.039895e-01\n",
       "Contributor_CIS         -1.381294e-02  2.613409e-01 -1.468890e-01 -2.071918e-01\n",
       "Contributor_G20          9.021895e-02 -2.042948e-01 -2.754114e-02  7.651257e-02\n",
       "Contributor_EU           1.323389e-02 -1.181693e-01  2.135027e-01 -1.245636e-01\n",
       "Contributor_NATO        -5.759396e-02 -4.009731e-01  3.137807e-01 -4.427393e-01\n",
       "Contributor_G8           2.149112e-02 -1.349794e-01  4.811766e-02 -1.360129e-01\n",
       "Contributor_OECD        -2.227846e-03 -1.933858e-01 -1.843039e-01  7.016690e-01\n",
       "Contributor_ASEAN        5.839105e-02 -2.459630e-01 -1.118117e-01 -1.389135e-01\n",
       "Contributor_OAS         -7.955209e-02 -6.999993e-02  3.406601e-01  2.942223e-01\n",
       "Contributor_Shanghai    -7.157406e-05  2.918434e-01 -1.332307e-01 -2.262473e-01\n",
       "Contributor_GCC          3.982962e-03 -3.882793e-03 -5.846200e-03 -1.800125e-03\n",
       "Contributor_UMA          8.275684e-03 -2.386919e-02 -6.339910e-02  1.569288e-02\n",
       "Contributor_COMESA       5.148794e-02 -6.826008e-02 -3.103248e-01 -5.456128e-02\n",
       "Contributor_CENSAD      -5.899635e-02  2.288137e-01  1.692944e-01  1.003886e-01\n",
       "Contributor_EAC          2.048132e-02 -5.125997e-03 -8.046087e-02 -1.999550e-02\n",
       "Contributor_ECCAS        1.441511e-02 -1.822679e-02 -2.825009e-02 -4.880461e-03\n",
       "Contributor_ECOWAS      -8.853016e-02  2.496343e-01  3.575296e-01  8.205061e-02\n",
       "Contributor_IGAD         1.336724e-02 -6.733708e-03 -1.013448e-01 -1.619004e-02\n",
       "Contributor_SADC         2.854098e-02 -5.188120e-02 -3.779901e-02 -1.998465e-02\n",
       "Mission_NAM             -1.787560e-01 -1.999736e-03 -4.081904e-02  1.602937e-02\n",
       "Mission_G77             -2.315191e-01 -1.634599e-02 -5.635343e-02 -5.645056e-03\n",
       "Mission_AU               2.027025e-01  5.686420e-04  9.952744e-02  1.425345e-02\n",
       "Mission_Arab_League      1.535776e-01  3.888489e-02  2.514899e-02 -4.168738e-02\n",
       "Mission_OIC              4.799187e-01  7.365224e-02  8.096467e-02  4.462004e-02\n",
       "Mission_CIS              1.170427e-02  4.681621e-03  1.807968e-03 -7.269221e-03\n",
       "Mission_G20              1.716957e-05 -5.279904e-05  1.621329e-05 -4.878645e-06\n",
       "Mission_EU               3.636101e-02  1.371569e-02  5.208379e-03  2.210375e-02\n",
       "Mission_NATO             5.957530e-03  9.113311e-03 -1.187328e-02 -1.704281e-02\n",
       "Mission_G8               1.716957e-05 -5.279904e-05  1.621329e-05 -4.878645e-06\n",
       "Mission_OECD             2.027302e-02  1.369315e-02 -2.488041e-02  1.335603e-01\n",
       "Mission_ASEAN           -1.933640e-02 -2.881090e-03 -5.572118e-03 -7.042953e-04\n",
       "Mission_OAS             -4.364849e-01 -5.790400e-02  2.058711e-02  2.695280e-03\n",
       "Mission_Shanghai         1.170427e-02  4.681621e-03  1.807968e-03 -7.269221e-03\n",
       "Mission_GCC              1.654361e-24 -2.067952e-25 -2.646978e-23  0.000000e+00\n",
       "Mission_UMA             -1.033976e-25  1.292470e-26 -1.654361e-24  0.000000e+00\n",
       "Mission_COMESA          -1.364235e-01  9.388352e-03 -2.158965e-02  2.671622e-02\n",
       "Mission_CENSAD          -2.282595e-01 -4.514436e-02 -6.016153e-02  3.622603e-02\n",
       "Mission_EAC             -1.079774e-02  2.918184e-03 -7.821452e-03 -1.512328e-03\n",
       "Mission_ECCAS            2.900637e-01  3.329280e-02 -1.087661e-02  2.702281e-02\n",
       "Mission_ECOWAS           8.020160e-02 -1.621653e-02  1.684024e-02  8.313026e-03\n",
       "Mission_IGAD            -3.522801e-01 -2.722525e-02 -2.968326e-02  1.612689e-02\n",
       "Mission_SADC             3.048302e-01  4.127675e-02  3.536888e-02  2.413434e-02\n",
       "Experts_on_Mission      -6.347763e-03 -1.406771e-03  5.520325e-04 -2.178734e-03\n",
       "Formed_Police_Units     -3.920030e-04 -2.008078e-04  2.623961e-04 -3.250596e-04\n",
       "Individual_Police        1.785645e-03 -4.863055e-04  1.744526e-04 -4.741124e-04\n",
       "Civilian_Police          1.804613e-03  1.051897e-03 -2.483146e-04 -2.217577e-05\n",
       "Troops                   9.624643e-04  3.882373e-04 -2.589200e-04 -3.619197e-04\n",
       "Observers               -3.751727e-03 -1.770170e-03  7.495422e-04  7.464505e-04\n",
       "Total                   -9.846501e-04 -3.300353e-04  2.423076e-04  3.623551e-04\n",
       "Year                     4.351190e-03  1.116908e-03  1.807360e-03  2.607100e-03\n",
       "DefSpend                -2.270259e-02  7.154573e-02  1.020169e-01  6.080210e-02\n",
       "                                 PC21          PC22          PC23          PC24\n",
       "Contributor_NAM         -3.717163e-01  1.228989e-01  7.212341e-02  1.991716e-01\n",
       "Contributor_G77          1.055779e-01  1.311098e-01 -1.033266e-01 -7.377914e-02\n",
       "Contributor_AU          -8.797547e-03 -3.661690e-02 -6.661659e-02 -3.139243e-01\n",
       "Contributor_Arab_League  4.099291e-01  1.957891e-01 -6.244046e-02  6.901448e-02\n",
       "Contributor_OIC          1.677908e-01 -2.460543e-02 -2.110786e-02 -2.459869e-01\n",
       "Contributor_CIS         -7.891960e-02  1.243609e-01  1.454727e-02  4.859650e-02\n",
       "Contributor_G20          7.077443e-02  1.403230e-01 -7.818034e-02 -1.570788e-01\n",
       "Contributor_EU           2.017007e-02  7.469004e-01 -1.192536e-01 -1.631833e-01\n",
       "Contributor_NATO         1.843035e-01 -4.512932e-01 -3.381073e-02  2.969641e-02\n",
       "Contributor_G8          -1.651873e-01  2.165423e-01  5.186050e-02  2.391266e-01\n",
       "Contributor_OECD        -1.669065e-01 -5.451944e-02  1.065009e-01  3.375132e-02\n",
       "Contributor_ASEAN       -2.746352e-01  6.382018e-02  5.144309e-02  1.637897e-01\n",
       "Contributor_OAS          4.894012e-01  3.030413e-02 -1.032968e-01 -5.851472e-02\n",
       "Contributor_Shanghai    -3.812247e-02  1.888589e-01 -3.642519e-02 -3.832213e-02\n",
       "Contributor_GCC          5.978757e-03  2.686653e-03 -6.113082e-04 -5.377829e-05\n",
       "Contributor_UMA          1.175319e-01  6.321132e-02 -4.866829e-02  1.108400e-02\n",
       "Contributor_COMESA       2.317655e-01  4.255893e-03  6.551654e-02  9.530311e-02\n",
       "Contributor_CENSAD       1.665690e-01  7.616453e-02  2.746500e-02  3.194517e-01\n",
       "Contributor_EAC          6.714360e-02 -2.116090e-02  5.122828e-02  2.245515e-01\n",
       "Contributor_ECCAS       -2.219264e-02 -1.435980e-02 -2.136942e-02 -6.338360e-02\n",
       "Contributor_ECOWAS      -2.020964e-01 -5.105930e-02  1.299514e-03 -8.702810e-03\n",
       "Contributor_IGAD         1.447680e-01  1.301548e-02  7.173562e-02  3.023250e-01\n",
       "Contributor_SADC        -1.942143e-01 -8.031937e-02 -7.900920e-02 -5.793044e-01\n",
       "Mission_NAM             -1.848562e-02  1.932903e-02  1.230574e-02 -1.200842e-03\n",
       "Mission_G77             -1.631109e-02  1.875835e-02  1.324909e-02  2.828686e-03\n",
       "Mission_AU               6.718717e-02  5.765650e-02  4.273323e-01 -5.672334e-02\n",
       "Mission_Arab_League      4.179911e-02  9.765012e-03 -7.781938e-02  6.009038e-02\n",
       "Mission_OIC              8.259190e-02 -5.165130e-02  1.683899e-01 -7.713193e-02\n",
       "Mission_CIS              4.183132e-03 -5.268989e-03  8.755593e-03 -9.562723e-03\n",
       "Mission_G20             -2.266440e-05  5.147869e-05 -1.375925e-04  3.837043e-05\n",
       "Mission_EU               2.468413e-02  1.434683e-02 -1.011221e-01 -2.102069e-02\n",
       "Mission_NATO             1.344188e-02 -3.436594e-02 -9.427562e-02  4.516110e-02\n",
       "Mission_G8              -2.266440e-05  5.147869e-05 -1.375925e-04  3.837043e-05\n",
       "Mission_OECD            -9.706812e-02 -4.588034e-02 -2.911622e-01  7.772837e-02\n",
       "Mission_ASEAN           -7.037375e-03  5.276739e-03 -5.841477e-03  4.693600e-03\n",
       "Mission_OAS              8.484736e-02  8.029382e-02  3.943615e-01 -8.694750e-02\n",
       "Mission_Shanghai         4.183132e-03 -5.268989e-03  8.755593e-03 -9.562723e-03\n",
       "Mission_GCC              8.470329e-22 -1.084202e-19  4.336809e-19 -1.734723e-18\n",
       "Mission_UMA              0.000000e+00 -2.710505e-20  2.168404e-19 -2.168404e-19\n",
       "Mission_COMESA          -8.871535e-03 -9.701540e-03 -1.599855e-03 -2.508551e-03\n",
       "Mission_CENSAD          -5.413975e-02 -2.262777e-02 -5.165272e-01  1.175317e-01\n",
       "Mission_EAC             -1.399469e-02 -3.773534e-03  3.492142e-02 -2.825418e-02\n",
       "Mission_ECCAS           -1.291076e-02 -5.030587e-02 -3.874427e-01  9.848334e-02\n",
       "Mission_ECOWAS          -2.731027e-02 -3.821278e-03  8.470486e-02 -1.120295e-02\n",
       "Mission_IGAD            -2.498203e-03  1.225371e-02 -2.279439e-02  6.060279e-03\n",
       "Mission_SADC             3.060213e-02 -1.842760e-02  1.757973e-02  1.057274e-02\n",
       "Experts_on_Mission      -1.904826e-03 -4.561090e-04  1.211190e-03 -1.515017e-03\n",
       "Formed_Police_Units     -2.881682e-04 -1.601765e-04 -1.271601e-05 -2.771798e-06\n",
       "Individual_Police       -1.540270e-04  1.926054e-04 -3.824861e-04  5.002423e-04\n",
       "Civilian_Police          2.074641e-04  1.822601e-04  3.160318e-05  1.789697e-04\n",
       "Troops                  -1.184510e-04  2.093785e-04 -5.416315e-05  2.057179e-04\n",
       "Observers                4.622239e-05 -6.106372e-04  8.175724e-05 -5.947827e-04\n",
       "Total                    1.352355e-04 -2.189986e-04  5.919727e-05 -2.100951e-04\n",
       "Year                    -6.744034e-04  1.103849e-03 -1.159982e-05  6.701493e-05\n",
       "DefSpend                -3.430937e-02 -5.123626e-03 -1.131416e-03 -6.712847e-03\n",
       "                                 PC25          PC26          PC27          PC28\n",
       "Contributor_NAM         -2.259242e-01 -8.864886e-02 -1.524820e-01 -2.142184e-02\n",
       "Contributor_G77          1.083456e-01  6.128554e-02  1.935797e-01 -2.335706e-02\n",
       "Contributor_AU           3.664800e-02 -2.686706e-02 -2.119526e-02 -6.165691e-03\n",
       "Contributor_Arab_League -4.142325e-01  3.498136e-01  1.931327e-01  9.498668e-02\n",
       "Contributor_OIC          1.056820e-01 -2.699989e-01 -1.449669e-01 -4.111622e-02\n",
       "Contributor_CIS         -1.913013e-01 -2.320303e-01 -1.933825e-01 -5.702509e-02\n",
       "Contributor_G20          2.746034e-01  1.177166e-01  1.459731e-01 -4.827500e-03\n",
       "Contributor_EU           1.798115e-01 -7.547273e-02  1.991032e-02 -5.732165e-02\n",
       "Contributor_NATO        -5.963708e-02 -4.718778e-02  6.928660e-02 -1.271183e-02\n",
       "Contributor_G8          -4.323654e-01 -4.712451e-02 -2.059155e-01 -2.205643e-02\n",
       "Contributor_OECD        -5.857040e-03 -4.256903e-02 -8.179516e-02  2.053450e-02\n",
       "Contributor_ASEAN        3.232193e-01  3.547200e-02  8.431528e-02 -3.530323e-02\n",
       "Contributor_OAS         -7.011358e-02 -3.538175e-01 -3.295474e-01 -7.372146e-02\n",
       "Contributor_Shanghai    -3.968962e-02 -1.921595e-01  2.629370e-02 -6.534152e-02\n",
       "Contributor_GCC         -1.091151e-02  4.078758e-03  2.180953e-03  8.381206e-03\n",
       "Contributor_UMA         -1.840659e-01  1.515491e-01  9.219494e-02  1.314173e-02\n",
       "Contributor_COMESA       1.071260e-01 -8.894127e-02 -2.693082e-02  9.433306e-03\n",
       "Contributor_CENSAD       4.087760e-02  1.460467e-01  1.255793e-01  1.048279e-02\n",
       "Contributor_EAC          2.978991e-01 -1.886420e-01 -5.146032e-02 -9.756783e-02\n",
       "Contributor_ECCAS        1.381328e-02 -1.157079e-01 -6.671819e-02 -9.448813e-02\n",
       "Contributor_ECOWAS       7.980612e-02  2.709919e-03 -2.159448e-02  2.324997e-02\n",
       "Contributor_IGAD         2.614281e-01 -1.238053e-01 -6.005946e-03 -6.527749e-02\n",
       "Contributor_SADC        -1.348960e-01  3.300730e-02 -2.979829e-02  8.085890e-02\n",
       "Mission_NAM              2.014707e-02  3.639652e-03  5.713826e-02  9.597675e-02\n",
       "Mission_G77              3.673923e-02  7.969948e-02  5.979371e-02 -9.452509e-02\n",
       "Mission_AU               1.577963e-03 -9.353604e-02  3.254492e-02  2.483994e-01\n",
       "Mission_Arab_League      5.244536e-02 -1.144598e-01 -7.471939e-02  6.814751e-01\n",
       "Mission_OIC             -1.108056e-01 -3.405668e-02  1.949009e-02 -4.774920e-01\n",
       "Mission_CIS             -7.198057e-03  1.609117e-02  7.582849e-03 -9.281295e-02\n",
       "Mission_G20             -6.021078e-05 -2.732326e-05  1.531013e-06 -5.650220e-05\n",
       "Mission_EU               7.972588e-02  2.314351e-01 -2.144571e-01  1.230128e-02\n",
       "Mission_NATO             1.968009e-02  1.326622e-01 -3.033501e-01 -1.182785e-01\n",
       "Mission_G8              -6.021078e-05 -2.732326e-05  1.531013e-06 -5.650220e-05\n",
       "Mission_OECD            -1.903579e-01 -5.064870e-01  6.239104e-01 -1.178642e-02\n",
       "Mission_ASEAN            8.880068e-03  2.052224e-02  1.428031e-02 -4.487349e-03\n",
       "Mission_OAS             -1.059346e-01 -2.362014e-01 -2.037737e-02  5.022537e-02\n",
       "Mission_Shanghai        -7.198057e-03  1.609117e-02  7.582849e-03 -9.281295e-02\n",
       "Mission_GCC             -1.387779e-17 -2.775558e-17 -2.775558e-17  1.110223e-16\n",
       "Mission_UMA              1.734723e-18  0.000000e+00 -1.387779e-17  0.000000e+00\n",
       "Mission_COMESA          -3.222015e-02  4.966102e-02  1.028998e-01 -3.129081e-01\n",
       "Mission_CENSAD           1.890656e-03 -2.078137e-02 -1.547963e-01  3.544590e-02\n",
       "Mission_EAC             -8.726292e-03  3.057273e-02  4.689074e-02 -1.088453e-01\n",
       "Mission_ECCAS           -1.607179e-02 -6.732205e-02 -1.745434e-01 -3.435630e-02\n",
       "Mission_ECOWAS          -6.582432e-03  3.105663e-03  8.952911e-02  1.751912e-02\n",
       "Mission_IGAD             7.665103e-03  3.677942e-02  1.771750e-02 -1.167406e-01\n",
       "Mission_SADC            -1.634273e-02 -8.995188e-02  1.387863e-02  8.354503e-02\n",
       "Experts_on_Mission       1.344247e-03  1.073353e-03 -1.750112e-03 -2.968769e-04\n",
       "Formed_Police_Units      9.061132e-05  3.596611e-04 -5.264007e-05 -5.427269e-06\n",
       "Individual_Police        1.348388e-04  2.587238e-04  5.131611e-05 -2.676276e-04\n",
       "Civilian_Police         -2.904103e-04 -8.636535e-04  6.970384e-04 -4.995382e-05\n",
       "Troops                  -2.934220e-04 -5.617952e-04  6.614627e-04 -9.046482e-05\n",
       "Observers                8.384607e-04  1.967403e-03 -1.989810e-03  2.192646e-04\n",
       "Total                    2.546285e-04  5.419545e-04 -6.313089e-04  7.884596e-05\n",
       "Year                     2.779917e-03  2.067410e-03 -1.533376e-03  9.247691e-04\n",
       "DefSpend                 7.330010e-02 -1.119556e-02 -2.272692e-03 -3.902436e-03\n",
       "                                 PC29          PC30          PC31          PC32\n",
       "Contributor_NAM          6.769087e-02  2.964188e-03  1.939670e-02  1.907161e-02\n",
       "Contributor_G77         -6.077691e-02  1.415485e-01  2.165813e-01  8.547860e-02\n",
       "Contributor_AU          -1.507371e-02 -4.294789e-02 -5.000032e-02 -3.074801e-02\n",
       "Contributor_Arab_League -3.967979e-02 -9.163285e-02 -5.731419e-02 -5.145182e-02\n",
       "Contributor_OIC          8.843276e-02  7.443731e-02  4.695561e-02  8.937988e-02\n",
       "Contributor_CIS          1.273480e-01 -8.195987e-02 -9.625615e-02 -4.259619e-03\n",
       "Contributor_G20         -8.493247e-02 -4.011305e-02  4.632810e-02 -3.689476e-02\n",
       "Contributor_EU           5.744415e-05 -8.186066e-03  3.858915e-02  1.811356e-02\n",
       "Contributor_NATO         2.202925e-02 -1.173715e-02 -4.073068e-03  3.761849e-03\n",
       "Contributor_G8           9.035114e-02  1.060453e-01  1.217495e-02  8.089635e-02\n",
       "Contributor_OECD         3.542077e-02  6.835823e-04  5.839190e-02  4.787505e-03\n",
       "Contributor_ASEAN       -3.829699e-02 -3.978922e-01 -5.157545e-01 -2.059106e-01\n",
       "Contributor_OAS          2.724270e-01 -2.110103e-01 -2.483585e-01 -5.271325e-02\n",
       "Contributor_Shanghai     2.930537e-02 -1.341765e-02  6.277159e-02  1.492096e-02\n",
       "Contributor_GCC          1.928239e-03  3.214889e-03  7.120508e-03  3.615170e-03\n",
       "Contributor_UMA         -6.480952e-02 -2.872596e-02 -1.811966e-02 -1.263948e-02\n",
       "Contributor_COMESA       8.014745e-02 -1.056589e-01 -1.670257e-01 -7.434839e-02\n",
       "Contributor_CENSAD      -2.826450e-02 -1.138691e-01 -1.189857e-01 -5.213560e-02\n",
       "Contributor_EAC         -2.005198e-02  1.509036e-01  1.736395e-01  1.323499e-01\n",
       "Contributor_ECCAS       -1.515083e-01  1.865803e-01  1.794827e-01 -1.161618e-02\n",
       "Contributor_ECOWAS       4.775564e-02 -5.290009e-02 -6.893550e-02 -1.124721e-02\n",
       "Contributor_IGAD         4.890701e-02  7.249555e-02  7.827963e-02  7.133492e-02\n",
       "Contributor_SADC         4.906929e-02 -1.420340e-01 -1.265084e-01  8.981939e-04\n",
       "Mission_NAM              6.638573e-02 -6.696139e-02  7.374343e-02  5.198420e-02\n",
       "Mission_G77              2.055163e-01  4.325014e-02 -2.200645e-02 -4.664806e-03\n",
       "Mission_AU              -3.220773e-02  5.452062e-02  3.737778e-02 -2.342949e-01\n",
       "Mission_Arab_League      4.294028e-02 -5.103665e-02  9.171337e-02  7.834243e-02\n",
       "Mission_OIC             -2.146333e-01  3.518859e-02 -8.760102e-02 -6.828124e-02\n",
       "Mission_CIS             -7.216693e-03  2.988292e-02 -2.663398e-02 -1.981199e-02\n",
       "Mission_G20             -1.225044e-04 -3.770989e-05 -9.127284e-07  3.040358e-04\n",
       "Mission_EU              -8.716012e-03  4.600371e-01 -4.121579e-01  3.422919e-01\n",
       "Mission_NATO            -2.527341e-01 -5.818129e-01  4.121018e-01  1.752369e-01\n",
       "Mission_G8              -1.225044e-04 -3.770989e-05 -9.127284e-07  3.040358e-04\n",
       "Mission_OECD            -3.590438e-02 -4.210660e-02 -5.033203e-02  8.365390e-02\n",
       "Mission_ASEAN            5.450392e-02  2.788591e-03 -6.133306e-03  2.678762e-03\n",
       "Mission_OAS             -5.879977e-01  3.816710e-02 -8.425212e-02 -3.943393e-02\n",
       "Mission_Shanghai        -7.216693e-03  2.988292e-02 -2.663398e-02 -1.981199e-02\n",
       "Mission_GCC              0.000000e+00 -6.938894e-17  1.110223e-16 -2.220446e-16\n",
       "Mission_UMA              0.000000e+00  3.469447e-17 -2.775558e-17  1.526557e-16\n",
       "Mission_COMESA           1.697855e-01 -1.002896e-01  3.849098e-02  2.601413e-01\n",
       "Mission_CENSAD          -2.571340e-01  6.837503e-02 -6.281446e-02 -8.866760e-02\n",
       "Mission_EAC              2.990001e-01  5.903819e-02  2.006827e-01 -3.351457e-01\n",
       "Mission_ECCAS           -2.224852e-01  9.147123e-02  1.403049e-02 -3.413814e-01\n",
       "Mission_ECOWAS           1.472919e-01 -1.544728e-01  2.572095e-02  3.984565e-01\n",
       "Mission_IGAD            -9.109261e-02  1.647681e-02 -9.585342e-02  4.219743e-02\n",
       "Mission_SADC            -2.384684e-01 -1.061671e-01 -1.855101e-01  4.529098e-01\n",
       "Experts_on_Mission      -4.960896e-04  9.522459e-04  1.881687e-03  5.894985e-04\n",
       "Formed_Police_Units      3.068894e-04 -9.446650e-05 -2.266604e-04  7.080942e-05\n",
       "Individual_Police        7.344174e-04  1.279165e-04  1.519157e-04 -2.202919e-04\n",
       "Civilian_Police         -1.929409e-04 -5.974729e-04  8.406188e-05  7.060896e-05\n",
       "Troops                  -8.691433e-05 -4.401727e-04  5.802497e-05  1.704414e-04\n",
       "Observers                3.843916e-04  1.468890e-03 -2.499442e-04 -4.552516e-04\n",
       "Total                    1.045364e-04  4.312440e-04 -1.078573e-04 -2.142012e-04\n",
       "Year                     1.805914e-03 -3.813155e-03  2.473713e-03 -1.103438e-03\n",
       "DefSpend                 1.926014e-03 -1.589310e-02 -2.403632e-02 -7.806258e-03\n",
       "                                 PC33          PC34          PC35          PC36\n",
       "Contributor_NAM          4.453602e-02  3.666881e-01  1.291154e-01 -3.313124e-01\n",
       "Contributor_G77          1.201671e-01 -2.469780e-01  2.612686e-01  4.113788e-01\n",
       "Contributor_AU          -6.882142e-02 -2.855874e-01  2.442369e-02 -1.509734e-01\n",
       "Contributor_Arab_League  8.505359e-03 -2.603943e-02  8.596758e-02 -3.959099e-02\n",
       "Contributor_OIC          1.976675e-02 -2.795675e-03 -1.205417e-01  1.108387e-01\n",
       "Contributor_CIS          6.080881e-02  6.629688e-03  2.400436e-01 -1.098178e-01\n",
       "Contributor_G20         -5.268713e-03  2.700256e-01 -2.178279e-02 -2.447496e-01\n",
       "Contributor_EU          -7.671714e-03  6.931322e-02 -5.840313e-02 -1.150737e-02\n",
       "Contributor_NATO         5.187647e-02  2.344842e-02  2.751156e-01 -1.642778e-02\n",
       "Contributor_G8          -3.340728e-02 -3.301918e-01 -2.927330e-01  3.253153e-01\n",
       "Contributor_OECD         1.134566e-01 -9.106306e-02  3.463955e-01  1.187854e-01\n",
       "Contributor_ASEAN       -1.512413e-01 -3.663282e-01  9.887651e-02  3.735235e-02\n",
       "Contributor_OAS         -2.212534e-02 -7.880058e-02  2.685283e-03 -1.004904e-01\n",
       "Contributor_Shanghai     1.678608e-01  3.968913e-02  6.385923e-01  6.542354e-02\n",
       "Contributor_GCC          4.050902e-03  3.686292e-03 -4.879359e-04  2.209412e-03\n",
       "Contributor_UMA         -2.052748e-02 -1.957982e-01  1.306295e-01 -2.413266e-01\n",
       "Contributor_COMESA       4.828863e-04  2.970325e-01 -9.956777e-02  2.650431e-01\n",
       "Contributor_CENSAD      -2.480959e-02  7.523722e-03  8.345383e-02 -8.552934e-02\n",
       "Contributor_EAC          4.552773e-02 -2.025026e-01  1.980536e-02 -1.183535e-01\n",
       "Contributor_ECCAS       -2.035484e-01 -3.651051e-01 -2.976683e-02 -4.237799e-01\n",
       "Contributor_ECOWAS       5.414652e-02  1.705546e-01 -6.253769e-02  1.862205e-01\n",
       "Contributor_IGAD         3.735582e-02  2.672088e-02  3.003935e-03  7.247601e-02\n",
       "Contributor_SADC         5.474273e-02  5.180506e-04  1.964929e-02  1.078116e-01\n",
       "Mission_NAM             -1.616580e-01 -3.118322e-02  7.331116e-02  1.486732e-01\n",
       "Mission_G77              2.410212e-01 -1.681209e-02 -7.968927e-02 -1.387683e-01\n",
       "Mission_AU               1.219930e-02 -3.625447e-02  2.342519e-02  1.934801e-02\n",
       "Mission_Arab_League     -1.623071e-01 -1.341119e-02  3.245435e-02 -6.160726e-02\n",
       "Mission_OIC             -2.562544e-02  5.314829e-02  6.714593e-04  6.522835e-02\n",
       "Mission_CIS              6.685628e-02  1.556251e-02 -4.833610e-02 -3.149119e-02\n",
       "Mission_G20             -3.621175e-04  6.234276e-05  9.877962e-06  1.780892e-04\n",
       "Mission_EU              -3.786339e-01  9.197199e-02  2.158281e-01  8.388918e-02\n",
       "Mission_NATO            -1.597327e-01  2.739400e-02  2.706495e-02  1.099894e-01\n",
       "Mission_G8              -3.621175e-04  6.234276e-05  9.877962e-06  1.780892e-04\n",
       "Mission_OECD            -1.700636e-01  4.198192e-02 -9.539581e-02  4.283166e-02\n",
       "Mission_ASEAN            2.105702e-02 -3.436815e-02  4.441393e-03 -1.325191e-02\n",
       "Mission_OAS             -2.498135e-01  1.251983e-01  5.302511e-02  5.979795e-02\n",
       "Mission_Shanghai         6.685628e-02  1.556251e-02 -4.833610e-02 -3.149119e-02\n",
       "Mission_GCC              2.220446e-16  1.387779e-17  2.775558e-17  1.387779e-17\n",
       "Mission_UMA             -2.498002e-16  2.428613e-17 -5.551115e-17 -6.938894e-18\n",
       "Mission_COMESA          -2.920505e-01  6.575208e-02  2.156887e-02 -1.502577e-02\n",
       "Mission_CENSAD           3.220453e-02  5.548609e-02  7.404745e-04  2.383795e-02\n",
       "Mission_EAC             -4.737679e-01  7.236390e-02  9.486139e-02  7.292495e-02\n",
       "Mission_ECCAS           -8.813517e-02  7.352524e-02  2.291122e-02  7.469120e-02\n",
       "Mission_ECOWAS          -2.230471e-01  2.618788e-02  1.287920e-02 -6.878371e-02\n",
       "Mission_IGAD             2.428831e-01 -3.264719e-02 -5.279850e-02 -7.244987e-03\n",
       "Mission_SADC             2.145331e-01 -1.315036e-02 -4.746786e-02 -4.773055e-02\n",
       "Experts_on_Mission      -3.202678e-03 -1.379407e-04  5.523551e-04  5.626916e-04\n",
       "Formed_Police_Units      3.337010e-04 -1.588577e-04 -1.596711e-04 -1.586369e-04\n",
       "Individual_Police        5.508092e-04  3.116734e-04 -2.095917e-04 -1.029697e-04\n",
       "Civilian_Police         -4.513068e-04 -1.099340e-04  1.454251e-04  4.412342e-04\n",
       "Troops                  -3.725112e-05  5.372304e-07 -1.037537e-04  3.155579e-04\n",
       "Observers                5.436740e-04  7.337791e-05  6.307109e-05 -1.077342e-03\n",
       "Total                    5.511606e-05 -3.601889e-05  1.047425e-04 -3.205495e-04\n",
       "Year                     3.675686e-03 -1.398792e-03 -6.145295e-04  1.245994e-04\n",
       "DefSpend                -1.344804e-02 -8.870842e-03 -1.092429e-02  8.593350e-03\n",
       "                                 PC37          PC38          PC39          PC40\n",
       "Contributor_NAM         -3.439568e-02 -9.762010e-02  2.213393e-02  4.823037e-03\n",
       "Contributor_G77          1.316098e-01  1.168125e-01 -3.376589e-02 -2.700066e-02\n",
       "Contributor_AU          -5.198228e-02 -3.889776e-03  5.452835e-02  8.315057e-02\n",
       "Contributor_Arab_League -9.905920e-02  1.470568e-02  1.192351e-01  3.523732e-01\n",
       "Contributor_OIC         -3.298215e-02 -8.167977e-03 -1.453850e-02 -6.510833e-02\n",
       "Contributor_CIS         -4.540037e-02 -2.534020e-02  1.971820e-03 -2.552055e-02\n",
       "Contributor_G20         -3.159348e-02 -5.284661e-02  4.879158e-03  2.469982e-02\n",
       "Contributor_EU          -3.029070e-03 -1.603154e-02 -3.832769e-03 -1.339272e-02\n",
       "Contributor_NATO         3.082441e-02 -8.862423e-03  2.469475e-02  1.538725e-02\n",
       "Contributor_G8           5.867953e-03  4.807975e-02 -3.339630e-03 -3.805063e-02\n",
       "Contributor_OECD         7.558914e-02  7.039396e-02 -1.628376e-02  8.047450e-03\n",
       "Contributor_ASEAN        2.833720e-05  5.757981e-02  3.382393e-02  7.266037e-02\n",
       "Contributor_OAS         -2.707633e-02 -3.429596e-02  1.811085e-02  2.006293e-02\n",
       "Contributor_Shanghai     1.254788e-01  4.346107e-02  2.685899e-02  6.239571e-02\n",
       "Contributor_GCC         -6.115840e-03 -9.408250e-04  1.285435e-02  2.702377e-02\n",
       "Contributor_UMA         -2.882858e-01 -4.318250e-03 -1.009841e-01 -2.647055e-01\n",
       "Contributor_COMESA       3.923810e-01 -1.585941e-02  1.768472e-02  1.105564e-01\n",
       "Contributor_CENSAD       1.054192e-01 -1.820836e-03 -1.215141e-01 -3.279655e-01\n",
       "Contributor_EAC         -5.026516e-01  2.523653e-02  9.612557e-02  4.254314e-01\n",
       "Contributor_ECCAS        5.485293e-01 -1.054542e-01  3.932793e-02  2.663669e-02\n",
       "Contributor_ECOWAS      -3.836307e-02  1.951095e-02  1.054437e-01  3.544662e-01\n",
       "Contributor_IGAD        -2.153779e-01  1.754668e-02 -9.731535e-02 -4.678305e-01\n",
       "Contributor_SADC        -2.281696e-01  5.772009e-02 -7.105035e-02 -2.358677e-01\n",
       "Mission_NAM             -5.742186e-02 -6.217350e-01 -1.275263e-01  4.234390e-02\n",
       "Mission_G77              6.867243e-02  3.911557e-01  4.016933e-01 -1.120066e-01\n",
       "Mission_AU              -3.703734e-02 -9.324708e-02  2.905933e-01 -8.376840e-02\n",
       "Mission_Arab_League      2.928145e-02  2.423894e-01 -2.428657e-02  8.976750e-03\n",
       "Mission_OIC             -4.340526e-02 -2.361478e-02 -4.615158e-02  3.722925e-03\n",
       "Mission_CIS              8.660032e-03  1.891804e-01  1.443483e-01 -3.416011e-02\n",
       "Mission_G20             -5.808917e-05 -1.587362e-04  9.764537e-04 -2.900687e-04\n",
       "Mission_EU              -3.569715e-02 -1.007620e-01  3.663677e-01 -9.559664e-02\n",
       "Mission_NATO            -9.580834e-03 -5.667074e-02  4.309316e-01 -1.266702e-01\n",
       "Mission_G8              -5.808917e-05 -1.587362e-04  9.764537e-04 -2.900687e-04\n",
       "Mission_OECD            -4.571217e-02 -8.228954e-02  3.174925e-01 -8.972356e-02\n",
       "Mission_ASEAN            2.977823e-03 -1.042909e-01 -1.315493e-02  1.772734e-03\n",
       "Mission_OAS             -8.063669e-02  2.340640e-01 -8.671255e-02  1.909107e-02\n",
       "Mission_Shanghai         8.660032e-03  1.891804e-01  1.443483e-01 -3.416011e-02\n",
       "Mission_GCC             -9.714451e-17  0.000000e+00  8.326673e-17 -1.040834e-16\n",
       "Mission_UMA             -2.775558e-17 -2.081668e-17 -8.326673e-17  2.498002e-16\n",
       "Mission_COMESA           3.225843e-02  2.107618e-01 -2.511035e-01  7.751525e-02\n",
       "Mission_CENSAD          -4.785717e-03  8.667743e-02 -8.193068e-02 -2.919372e-03\n",
       "Mission_EAC             -7.786748e-02  1.020512e-01  1.203150e-01 -3.214722e-02\n",
       "Mission_ECCAS           -6.598923e-02  1.408366e-01 -1.543812e-01  4.907513e-02\n",
       "Mission_ECOWAS           4.032170e-02  2.448875e-01 -2.649231e-01  1.083612e-01\n",
       "Mission_IGAD             1.840672e-02 -1.892402e-01  4.932401e-02  3.418443e-03\n",
       "Mission_SADC             6.455083e-02 -1.034880e-02  1.878136e-02 -3.845347e-03\n",
       "Experts_on_Mission      -6.131663e-04 -2.222963e-03 -6.221940e-04  7.199790e-04\n",
       "Formed_Police_Units      9.120860e-05  2.236659e-04 -3.284615e-04  2.952523e-05\n",
       "Individual_Police        7.606595e-05  1.076018e-04 -5.446927e-04 -3.093432e-04\n",
       "Civilian_Police         -1.228803e-04 -5.480648e-04  3.099617e-04 -1.310196e-04\n",
       "Troops                  -1.944248e-05 -2.798477e-04 -2.290824e-05  1.121158e-04\n",
       "Observers                1.645644e-04  1.110377e-03 -2.600836e-04 -7.669137e-05\n",
       "Total                    2.224156e-05  2.824641e-04  2.696986e-05 -9.559514e-05\n",
       "Year                     6.348394e-04  1.846937e-03  5.209498e-03 -2.362564e-03\n",
       "DefSpend                 1.026318e-02  5.965819e-03 -5.276651e-03 -1.060161e-02\n",
       "                                 PC41          PC42          PC43          PC44\n",
       "Contributor_NAM          2.090588e-02  5.626605e-03  2.571003e-02  9.113512e-02\n",
       "Contributor_G77         -2.315189e-02 -1.445848e-02 -4.390676e-02 -2.765823e-01\n",
       "Contributor_AU           3.829314e-01  2.052852e-03 -1.031003e-02 -8.500615e-03\n",
       "Contributor_Arab_League  8.336775e-02 -3.617616e-01 -1.870970e-03  8.040868e-02\n",
       "Contributor_OIC         -6.483880e-02  5.720328e-02  3.776146e-03  2.532716e-02\n",
       "Contributor_CIS         -1.934785e-02 -2.293871e-01 -1.164850e-01 -7.078092e-01\n",
       "Contributor_G20          1.113019e-02 -3.619684e-02 -1.052726e-02 -7.985818e-02\n",
       "Contributor_EU          -9.400012e-03  1.106322e-02 -8.994543e-03 -4.267401e-02\n",
       "Contributor_NATO         5.666273e-03 -3.057214e-02 -5.878028e-03 -5.999419e-02\n",
       "Contributor_G8          -2.545372e-02  5.538495e-02  1.765507e-02  1.254739e-01\n",
       "Contributor_OECD        -3.983961e-04 -1.457133e-02  5.519339e-03 -9.417222e-02\n",
       "Contributor_ASEAN        3.679283e-02 -4.437803e-02  7.085317e-03  4.449990e-02\n",
       "Contributor_OAS          2.887039e-03  1.186892e-02  3.204970e-02  1.250886e-01\n",
       "Contributor_Shanghai     2.970681e-02  1.213519e-01  9.661574e-02  4.715311e-01\n",
       "Contributor_GCC          3.528352e-03 -4.243073e-02 -1.069825e-03  1.221554e-02\n",
       "Contributor_UMA          1.608231e-01  6.715811e-01  6.239514e-04 -1.376590e-01\n",
       "Contributor_COMESA      -4.916943e-02  3.004268e-01 -7.758051e-03 -1.146953e-01\n",
       "Contributor_CENSAD      -5.193493e-01 -6.526580e-02  2.505592e-02  2.770043e-02\n",
       "Contributor_EAC         -3.897212e-01  5.134227e-02  8.578659e-03  1.371621e-02\n",
       "Contributor_ECCAS       -6.993531e-02 -1.590855e-01  1.662532e-02  5.030297e-02\n",
       "Contributor_ECOWAS       2.094794e-01  2.025672e-02 -1.203696e-02 -1.306141e-02\n",
       "Contributor_IGAD         4.388768e-01 -3.958272e-01  7.119906e-03  1.411417e-01\n",
       "Contributor_SADC        -3.742768e-01 -2.216918e-01  2.404046e-02  1.251957e-01\n",
       "Mission_NAM             -2.358260e-03 -2.316172e-02  2.502071e-01 -3.646573e-02\n",
       "Mission_G77             -2.037411e-02  3.096076e-02 -2.491645e-01  3.271362e-02\n",
       "Mission_AU              -1.904577e-02  1.612987e-02 -7.541043e-03  1.412654e-02\n",
       "Mission_Arab_League      1.237477e-02  5.427896e-03  5.650754e-02 -2.086800e-02\n",
       "Mission_OIC              1.892140e-03 -1.461866e-03 -6.943176e-02  1.435403e-02\n",
       "Mission_CIS              1.060644e-02 -1.783792e-02  6.326307e-01 -1.127991e-01\n",
       "Mission_G20             -7.087218e-05  6.095922e-05 -1.044753e-04 -4.216648e-05\n",
       "Mission_EU              -2.228508e-02  1.209416e-02 -2.727960e-02 -8.830700e-03\n",
       "Mission_NATO            -1.432948e-02  3.059279e-02 -2.805162e-02 -8.105370e-03\n",
       "Mission_G8              -7.087218e-05  6.095922e-05 -1.044753e-04 -4.216648e-05\n",
       "Mission_OECD            -1.990071e-02  6.636688e-03 -2.951844e-02 -1.317366e-02\n",
       "Mission_ASEAN            1.429598e-02  5.095123e-02  1.791223e-01 -3.966195e-03\n",
       "Mission_OAS              1.224606e-02 -1.501530e-02 -9.511552e-03 -1.075359e-02\n",
       "Mission_Shanghai         1.060644e-02 -1.783792e-02  6.326307e-01 -1.127991e-01\n",
       "Mission_GCC             -1.387779e-16 -1.387779e-17  6.938894e-17  6.938894e-18\n",
       "Mission_UMA             -2.775558e-17 -4.163336e-17  3.608225e-16 -1.474515e-16\n",
       "Mission_COMESA           3.423938e-03  6.836964e-03  1.807874e-02  5.766762e-02\n",
       "Mission_CENSAD          -1.373363e-02  1.869393e-03  1.101969e-02  4.990821e-02\n",
       "Mission_EAC             -2.565570e-02  3.957160e-03 -3.346296e-02 -5.345463e-02\n",
       "Mission_ECCAS            1.530672e-02 -3.119324e-02 -6.646899e-03 -5.409496e-02\n",
       "Mission_ECOWAS           4.037800e-02 -2.069323e-02  2.196321e-02 -7.751042e-02\n",
       "Mission_IGAD             1.775905e-02 -2.687391e-02 -2.744674e-02 -1.104123e-01\n",
       "Mission_SADC             2.607326e-02 -7.786099e-04 -1.719142e-02 -1.254997e-02\n",
       "Experts_on_Mission      -1.985100e-03  4.525702e-04  7.386824e-04 -2.668242e-04\n",
       "Formed_Police_Units      8.886702e-05 -7.045611e-05 -7.814004e-05  1.107482e-04\n",
       "Individual_Police        1.837942e-04 -4.290647e-05 -1.226970e-04  5.768471e-06\n",
       "Civilian_Police         -8.100726e-05  4.302926e-05  2.231822e-04  2.296029e-05\n",
       "Troops                  -3.590850e-05 -4.374686e-05  1.320734e-04  1.012322e-04\n",
       "Observers                1.460492e-04  2.835191e-05 -4.869074e-04 -2.100770e-04\n",
       "Total                    2.913344e-05  2.763432e-05 -1.316518e-04 -8.588452e-05\n",
       "Year                    -1.762048e-04  1.122765e-03 -4.931555e-04 -7.266533e-05\n",
       "DefSpend                 4.007101e-03  2.070409e-02 -1.491886e-03 -6.767577e-03\n",
       "                                 PC45          PC46          PC47          PC48\n",
       "Contributor_NAM         -1.374996e-02 -9.914446e-03 -2.738392e-02 -1.735240e-02\n",
       "Contributor_G77          4.087539e-02  1.299077e-02  1.525936e-02  9.816449e-03\n",
       "Contributor_AU           3.356494e-02 -1.511242e-02 -3.370483e-01 -2.140118e-01\n",
       "Contributor_Arab_League  7.850576e-03  1.597068e-02  1.182214e-01  6.632613e-02\n",
       "Contributor_OIC         -1.277581e-02  8.213283e-04 -5.988898e-03  5.381899e-04\n",
       "Contributor_CIS          1.312226e-01  3.086815e-02  2.150732e-02  4.095770e-02\n",
       "Contributor_G20          1.807151e-02  2.882321e-03  6.953659e-03  7.062005e-03\n",
       "Contributor_EU           1.353308e-03  7.041137e-04  3.744555e-04  3.942355e-03\n",
       "Contributor_NATO         9.965182e-03  4.325724e-03  2.623222e-03  1.227680e-02\n",
       "Contributor_G8          -2.848840e-02 -9.166063e-03 -4.299030e-03 -1.644613e-02\n",
       "Contributor_OECD         1.544666e-02  7.947696e-04  9.341993e-03  5.083484e-03\n",
       "Contributor_ASEAN        5.177499e-03 -1.057877e-02  3.088561e-02  1.601355e-02\n",
       "Contributor_OAS         -2.302406e-02 -1.397025e-02  8.995777e-03  7.886161e-03\n",
       "Contributor_Shanghai    -9.457995e-02 -2.502143e-02 -6.699792e-03 -1.737355e-02\n",
       "Contributor_GCC         -1.237718e-02  3.427482e-03  4.412202e-02  1.624067e-02\n",
       "Contributor_UMA         -1.829063e-02 -4.280674e-02  2.899958e-01  2.041615e-01\n",
       "Contributor_COMESA       2.090064e-03 -1.673857e-03  1.442988e-01  1.070670e-01\n",
       "Contributor_CENSAD      -3.026291e-02 -8.154481e-04 -7.376276e-02 -5.063938e-02\n",
       "Contributor_EAC          2.312857e-03 -2.023989e-03  7.086785e-02  3.433471e-02\n",
       "Contributor_ECCAS       -2.856302e-02 -3.727759e-03  3.446904e-01  2.261749e-01\n",
       "Contributor_ECOWAS       5.097874e-03  1.126413e-02  4.505486e-01  2.890613e-01\n",
       "Contributor_IGAD        -1.581902e-02  1.543913e-02  2.328677e-01  1.432806e-01\n",
       "Contributor_SADC        -4.339044e-02  2.350547e-02  2.764088e-01  1.838837e-01\n",
       "Mission_NAM              1.609365e-02 -1.124342e-01 -3.481197e-02  4.929598e-02\n",
       "Mission_G77             -3.346939e-02  7.432606e-02 -3.953237e-02  6.234726e-02\n",
       "Mission_AU               7.946675e-02  3.776643e-02 -7.480002e-02  1.165839e-01\n",
       "Mission_Arab_League     -5.225176e-02  2.536627e-02 -7.278996e-04  9.047274e-03\n",
       "Mission_OIC              1.063532e-02  3.407913e-02 -3.025898e-04 -1.569251e-02\n",
       "Mission_CIS             -2.162314e-03 -9.487269e-02 -8.101370e-03  7.524739e-03\n",
       "Mission_G20             -1.623845e-04  1.643616e-04 -5.176156e-04  7.703824e-04\n",
       "Mission_EU              -4.118617e-02  2.666580e-02 -6.853890e-02  9.339899e-02\n",
       "Mission_NATO            -3.080784e-02  4.396025e-02 -4.802830e-02  6.329879e-02\n",
       "Mission_G8              -1.623845e-04  1.643616e-04 -5.176156e-04  7.703824e-04\n",
       "Mission_OECD            -2.029129e-02  3.035880e-02 -6.336838e-02  8.232814e-02\n",
       "Mission_ASEAN           -8.479421e-03  9.558034e-01  9.174366e-02 -1.604987e-01\n",
       "Mission_OAS             -1.363175e-02  6.356443e-02  1.060245e-02 -2.681207e-02\n",
       "Mission_Shanghai        -2.162314e-03 -9.487269e-02 -8.101370e-03  7.524739e-03\n",
       "Mission_GCC              6.938894e-18  1.604619e-16  1.110223e-16 -1.110223e-16\n",
       "Mission_UMA             -4.440892e-16  3.330669e-16 -5.551115e-17  0.000000e+00\n",
       "Mission_COMESA           3.122689e-01  4.535289e-02 -8.065168e-02  1.468342e-01\n",
       "Mission_CENSAD           3.183606e-01 -2.496621e-02  1.371941e-01 -1.975175e-01\n",
       "Mission_EAC             -1.556484e-01 -1.099689e-01  3.522340e-01 -5.409417e-01\n",
       "Mission_ECCAS           -3.688183e-01  8.513474e-02 -1.566396e-01  1.989475e-01\n",
       "Mission_ECOWAS          -4.313498e-01  2.827593e-02 -6.122815e-02  6.247417e-02\n",
       "Mission_IGAD            -6.357977e-01 -4.719787e-02  3.888568e-02 -9.695790e-02\n",
       "Mission_SADC             3.017273e-02 -9.408394e-02  3.044336e-01 -4.774573e-01\n",
       "Experts_on_Mission      -9.659614e-04 -7.838651e-04  3.543011e-04  9.627075e-05\n",
       "Formed_Police_Units      7.413529e-05  1.738451e-04  1.775012e-04 -9.512334e-05\n",
       "Individual_Police        1.128564e-04  1.303029e-04  1.435579e-05 -1.608638e-04\n",
       "Civilian_Police          3.052335e-04 -1.338118e-04 -1.397943e-04  5.789512e-05\n",
       "Troops                   4.175444e-04  5.103216e-05  1.794393e-05 -9.329190e-05\n",
       "Observers               -1.123689e-03  2.933311e-05  1.121856e-04  1.289598e-04\n",
       "Total                   -4.009110e-04 -5.344658e-05 -9.664736e-06  9.356301e-05\n",
       "Year                     2.782200e-04  1.165001e-03  1.313457e-03 -2.440058e-03\n",
       "DefSpend                 2.472337e-03 -7.712715e-04 -3.175398e-03  2.339255e-04\n",
       "                                 PC49          PC50          PC51          PC52\n",
       "Contributor_NAM         -2.852923e-03 -3.658629e-05 -8.100364e-14  0.000000e+00\n",
       "Contributor_G77          1.601989e-03 -3.523580e-05  8.833181e-14 -3.309970e-17\n",
       "Contributor_AU           1.970802e-02  1.908728e-05  1.329401e-13 -1.478933e-16\n",
       "Contributor_Arab_League -4.586822e-02  2.557667e-05  3.041759e-15  1.184795e-16\n",
       "Contributor_OIC         -1.118418e-03 -5.741192e-05 -3.910276e-14 -5.148557e-17\n",
       "Contributor_CIS         -2.271835e-04 -2.051966e-05  5.661022e-14  1.635766e-16\n",
       "Contributor_G20         -9.111866e-04 -2.830111e-05  1.100404e-13  4.429330e-18\n",
       "Contributor_EU           1.975463e-03 -9.866141e-05  3.019611e-14  5.934396e-17\n",
       "Contributor_NATO        -1.478369e-03 -4.446818e-05 -2.296239e-14 -1.452778e-16\n",
       "Contributor_G8          -1.101739e-03 -1.772699e-04 -3.811826e-14  2.429568e-17\n",
       "Contributor_OECD         1.219351e-03  8.208800e-05  3.273649e-14  8.254558e-17\n",
       "Contributor_ASEAN        3.508955e-03  2.254087e-05 -8.715225e-14  2.058117e-16\n",
       "Contributor_OAS          1.339114e-03  2.751557e-05 -1.244336e-13  1.342652e-16\n",
       "Contributor_Shanghai    -2.886754e-03  7.554285e-05 -8.494438e-14 -3.460016e-17\n",
       "Contributor_GCC          9.971264e-01  2.129096e-05  3.856093e-14  2.084703e-16\n",
       "Contributor_UMA          1.757776e-02 -9.051506e-06 -1.830779e-14 -4.624216e-17\n",
       "Contributor_COMESA       4.960614e-03 -3.959601e-05 -6.770093e-14  2.008945e-17\n",
       "Contributor_CENSAD       1.585631e-02  1.000629e-05 -1.261625e-14  1.069940e-16\n",
       "Contributor_EAC         -1.248252e-02  6.013366e-06 -7.761328e-14  2.341164e-16\n",
       "Contributor_ECCAS       -2.124245e-02  2.075887e-06  8.508460e-15 -2.323193e-16\n",
       "Contributor_ECOWAS      -3.123439e-02  1.664702e-05 -6.646290e-14  1.385204e-16\n",
       "Contributor_IGAD        -1.887395e-02  1.334731e-05  6.081192e-14  3.304760e-17\n",
       "Contributor_SADC        -1.910483e-02 -2.078853e-05 -5.806863e-14  1.255125e-16\n",
       "Mission_NAM             -2.413304e-04 -5.850001e-05  4.635291e-14  5.319824e-17\n",
       "Mission_G77             -8.726127e-04 -4.397780e-04  1.330451e-14 -2.029421e-16\n",
       "Mission_AU               1.145780e-03 -4.407967e-04  2.640369e-14 -1.306972e-16\n",
       "Mission_Arab_League     -7.083694e-03  1.688821e-05  2.429402e-14  1.167959e-16\n",
       "Mission_OIC              8.405330e-04  1.314560e-05  6.228978e-15 -1.312793e-16\n",
       "Mission_CIS              1.523055e-03 -2.726826e-05 -5.562023e-05 -7.040132e-01\n",
       "Mission_G20             -9.380900e-06  7.071051e-01  3.858927e-07  6.282354e-02\n",
       "Mission_EU               5.663402e-04 -1.100927e-03  6.086877e-14  1.942890e-16\n",
       "Mission_NATO             5.447149e-05 -1.073456e-03  1.024341e-13 -1.387779e-17\n",
       "Mission_G8              -9.380900e-06  7.071051e-01 -3.858929e-07 -6.282354e-02\n",
       "Mission_OECD            -3.769629e-04 -8.988504e-04  9.227812e-15 -1.387779e-17\n",
       "Mission_ASEAN           -2.376339e-03  6.218779e-05 -2.046179e-13 -1.249001e-16\n",
       "Mission_OAS              1.922004e-03  2.788837e-05  2.979087e-14 -8.326673e-17\n",
       "Mission_Shanghai         1.523055e-03 -2.726826e-05  5.562023e-05  7.040132e-01\n",
       "Mission_GCC              6.418477e-17 -3.552714e-15  1.024352e-06  2.215209e-02\n",
       "Mission_UMA              3.469447e-18 -2.775558e-16  7.211858e-08  1.861493e-02\n",
       "Mission_COMESA           8.483108e-03  1.734165e-05 -1.025891e-13 -8.326673e-17\n",
       "Mission_CENSAD           4.036432e-03  4.310500e-04 -5.065348e-14  1.318390e-16\n",
       "Mission_EAC             -7.174673e-03  5.946791e-04 -1.955351e-15 -1.804112e-16\n",
       "Mission_ECCAS            7.964765e-05 -2.123006e-04  8.579225e-14  1.526557e-16\n",
       "Mission_ECOWAS          -2.568690e-03  1.560161e-05  3.316575e-14 -8.326673e-17\n",
       "Mission_IGAD            -7.057054e-03 -2.998231e-05  1.111046e-13  1.387779e-16\n",
       "Mission_SADC            -5.886088e-03  6.388171e-04 -1.211552e-14  1.526557e-16\n",
       "Experts_on_Mission       5.141816e-05 -3.299148e-06  6.502503e-15 -8.326673e-17\n",
       "Formed_Police_Units     -3.262678e-06  6.553115e-07 -5.196208e-17 -2.775558e-17\n",
       "Individual_Police        2.438384e-05  8.494269e-07 -4.959920e-16 -5.551115e-17\n",
       "Civilian_Police          7.008843e-06 -1.480773e-06  5.000000e-01 -3.919364e-05\n",
       "Troops                  -1.376717e-05 -6.601713e-07  5.000000e-01 -3.919364e-05\n",
       "Observers                1.962756e-05  2.845352e-06  5.000000e-01 -3.919364e-05\n",
       "Total                    1.286924e-05  7.044074e-07 -5.000000e-01  3.919364e-05\n",
       "Year                    -3.413549e-05  1.576663e-06 -1.497304e-16 -4.163336e-17\n",
       "DefSpend                 3.936039e-03  9.968668e-06 -9.401634e-16  3.122502e-17\n",
       "                                 PC53          PC54          PC55\n",
       "Contributor_NAM          0.000000e+00  0.000000e+00  0.000000e+00\n",
       "Contributor_G77          1.049508e-16  1.179612e-16  2.949030e-17\n",
       "Contributor_AU           2.802129e-17 -1.939904e-16 -1.040087e-16\n",
       "Contributor_Arab_League -4.659440e-17  1.274764e-17 -1.133851e-16\n",
       "Contributor_OIC         -8.060841e-18  1.087137e-16  1.421126e-17\n",
       "Contributor_CIS          4.922156e-17  2.637580e-17 -6.092021e-17\n",
       "Contributor_G20         -8.549044e-18 -1.371736e-16  3.436947e-17\n",
       "Contributor_EU           5.038191e-17  3.211243e-16  6.935946e-17\n",
       "Contributor_NATO         1.308200e-16  1.139818e-17 -1.650766e-17\n",
       "Contributor_G8          -2.755322e-18 -1.278163e-16 -6.076402e-18\n",
       "Contributor_OECD         4.753833e-17  1.669452e-17 -6.039635e-17\n",
       "Contributor_ASEAN       -1.322277e-16  1.020980e-16 -8.029337e-17\n",
       "Contributor_OAS         -8.666097e-17  8.230026e-17 -5.345322e-17\n",
       "Contributor_Shanghai     1.687405e-17  1.333678e-16 -2.187676e-17\n",
       "Contributor_GCC         -3.433759e-17  1.361392e-18 -3.546691e-17\n",
       "Contributor_UMA         -5.292005e-17 -1.639112e-16 -8.918271e-17\n",
       "Contributor_COMESA      -8.865044e-17  1.931306e-16  3.083531e-17\n",
       "Contributor_CENSAD      -5.253269e-18  1.106230e-16  1.872656e-17\n",
       "Contributor_EAC         -1.232454e-16  9.798417e-17  1.263488e-16\n",
       "Contributor_ECCAS        1.690501e-16 -1.380891e-16  2.395095e-18\n",
       "Contributor_ECOWAS      -1.302473e-16 -3.806222e-17 -1.431566e-17\n",
       "Contributor_IGAD         9.079934e-17 -1.037216e-16  1.833271e-17\n",
       "Contributor_SADC        -6.743015e-17 -4.165029e-17 -5.086887e-17\n",
       "Mission_NAM              5.430024e-17  2.300185e-16  4.549671e-17\n",
       "Mission_G77              1.297526e-17 -3.497858e-16 -7.215966e-17\n",
       "Mission_AU               4.972721e-17  1.514905e-16  4.083025e-17\n",
       "Mission_Arab_League     -1.409765e-17  1.105602e-16 -4.048450e-17\n",
       "Mission_OIC             -2.246371e-17 -4.674866e-17  2.847943e-17\n",
       "Mission_CIS              3.613807e-02  5.028424e-02  2.304230e-02\n",
       "Mission_G20              2.414438e-01  6.503852e-01  1.214794e-01\n",
       "Mission_EU              -1.040834e-17  1.110223e-16  1.387779e-17\n",
       "Mission_NATO             2.081668e-17  7.632783e-17  1.491862e-16\n",
       "Mission_G8              -2.414438e-01 -6.503852e-01 -1.214794e-01\n",
       "Mission_OECD             8.933826e-17  1.838807e-16  1.214306e-16\n",
       "Mission_ASEAN            1.908196e-17  2.081668e-16 -1.708703e-16\n",
       "Mission_OAS              2.081668e-17  0.000000e+00  7.632783e-17\n",
       "Mission_Shanghai        -3.613807e-02 -5.028424e-02 -2.304230e-02\n",
       "Mission_GCC              9.384188e-01 -3.410405e-01 -5.070323e-02\n",
       "Mission_UMA             -1.296208e-02 -1.806452e-01  9.832867e-01\n",
       "Mission_COMESA           9.020562e-17  0.000000e+00  3.469447e-18\n",
       "Mission_CENSAD          -6.765422e-17  1.595946e-16  1.786765e-16\n",
       "Mission_EAC             -8.109832e-17 -1.231654e-16  5.767956e-17\n",
       "Mission_ECCAS           -8.326673e-17  0.000000e+00  9.714451e-17\n",
       "Mission_ECOWAS           5.551115e-17 -4.163336e-17 -2.307182e-16\n",
       "Mission_IGAD            -1.387779e-17 -8.326673e-17 -1.526557e-16\n",
       "Mission_SADC             0.000000e+00  5.551115e-17 -1.110223e-16\n",
       "Experts_on_Mission       2.775558e-17 -2.220446e-16  1.387779e-17\n",
       "Formed_Police_Units     -1.908196e-17  2.515349e-17 -7.372575e-18\n",
       "Individual_Police        0.000000e+00  0.000000e+00 -6.938894e-18\n",
       "Civilian_Police          1.436668e-06  2.727029e-06  1.225252e-06\n",
       "Troops                   1.436668e-06  2.727029e-06  1.225252e-06\n",
       "Observers                1.436668e-06  2.727029e-06  1.225252e-06\n",
       "Total                   -1.436668e-06 -2.727029e-06 -1.225252e-06\n",
       "Year                     1.387779e-17  1.665335e-16  3.469447e-18\n",
       "DefSpend                -3.122502e-17 -1.214306e-17  3.035766e-18"
      ]
     },
     "metadata": {},
     "output_type": "display_data"
    }
   ],
   "source": [
    "#library(ggfortify)\n",
    "\n",
    "contrib.pca <- prcomp(clustdata[,-1])\n",
    "contrib.pca"
   ]
  },
  {
   "cell_type": "code",
   "execution_count": 24,
   "metadata": {},
   "outputs": [
    {
     "ename": "ERROR",
     "evalue": "Error: Objects of type prcomp not supported by autoplot.\n",
     "output_type": "error",
     "traceback": [
      "Error: Objects of type prcomp not supported by autoplot.\nTraceback:\n",
      "1. autoplot(contrib.pca, data = clustdata, colour = \"Contributor_Continent\")",
      "2. autoplot.default(contrib.pca, data = clustdata, colour = \"Contributor_Continent\")",
      "3. stop(\"Objects of type \", paste(class(object), collapse = \"/\"), \n .     \" not supported by autoplot.\", call. = FALSE)"
     ]
    }
   ],
   "source": [
    "contrib.plot <- autoplot(contrib.pca, data = clustdata, colour = 'Contributor_Continent')\n",
    "contrib.plot"
   ]
  },
  {
   "cell_type": "code",
   "execution_count": null,
   "metadata": {},
   "outputs": [],
   "source": [
    "train <- clustdata[,c(2,4,6,10:18)]\n",
    "train <- distinct(train)\n",
    "install.packages('Rtsne')\n",
    "library(Rtsne)\n",
    "## Curating the database for analysis with both t-SNE and PCA\n",
    "Labels<-train$Contributor_Continent\n",
    "train$Contributor_Continent<-as.factor(train$Contributor_Continent)\n",
    "## for plotting\n",
    "colors = rainbow(length(unique(train$Contributor_Continent)))\n",
    "names(colors) = unique(train$Contributor_Continent)\n",
    "\n",
    " \n",
    "\n",
    "## Executing the algorithm on curated data\n",
    "tsne <- Rtsne(train[,-1], dims = 2, perplexity=5, verbose=TRUE, max_iter = 500,check_duplicates = FALSE)\n",
    "#exeTimeTsne<- system.time(Rtsne(train[,-1], dims = 2, perplexity=30, verbose=TRUE, max_iter = 500))\n",
    "\n",
    " \n",
    "\n",
    "## Plotting\n",
    "plot(tsne$Y, t='n', main=\"tsne\")\n",
    "text(tsne$Y, labels=train$`Contributor_ISO-3`, col=colors[train$Contributor_Continent])"
   ]
  },
  {
   "cell_type": "code",
   "execution_count": null,
   "metadata": {},
   "outputs": [],
   "source": []
  },
  {
   "cell_type": "raw",
   "metadata": {},
   "source": [
    "library(caTools)\n",
    "set.seed(1000) # set.seed() will help us to reproduce the results.\n",
    "\n",
    "split = sample.split(contrib_sample, SplitRatio = 0.7)\n",
    "\n",
    "# Train data will have 70% of data\n",
    "train_data = subset(contrib_sample, split==TRUE)\n",
    "\n",
    "# Test data will have the rest 30% of data\n",
    "test_data  = subset(contrib_sample, split==FALSE)"
   ]
  }
 ],
 "metadata": {
  "kernelspec": {
   "display_name": "R",
   "language": "R",
   "name": "ir"
  },
  "language_info": {
   "codemirror_mode": "r",
   "file_extension": ".r",
   "mimetype": "text/x-r-source",
   "name": "R",
   "pygments_lexer": "r",
   "version": "3.4.0"
  }
 },
 "nbformat": 4,
 "nbformat_minor": 4
}
